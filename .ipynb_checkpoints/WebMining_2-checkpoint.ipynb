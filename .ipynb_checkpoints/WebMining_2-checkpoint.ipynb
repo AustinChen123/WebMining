{
 "cells": [
  {
   "cell_type": "code",
   "execution_count": 1,
   "metadata": {},
   "outputs": [],
   "source": [
    "# Author: Chun-Yi Chen"
   ]
  },
  {
   "cell_type": "code",
   "execution_count": 2,
   "metadata": {},
   "outputs": [],
   "source": [
    "import pandas as pd\n",
    "import seaborn as sns\n",
    "import matplotlib.pyplot as plt\n",
    "import numpy as np\n",
    "import math\n",
    "import os \n",
    "from sklearn import metrics\n",
    "from sklearn.metrics.pairwise import pairwise_distances\n",
    "from sklearn.metrics.pairwise import linear_kernel\n",
    "from sklearn.feature_extraction.text import TfidfVectorizer\n",
    "from sklearn.preprocessing import MinMaxScaler\n",
    "from IPython.display import display, HTML\n",
    "from IPython.display import Markdown\n"
   ]
  },
  {
   "cell_type": "markdown",
   "metadata": {},
   "source": [
    "# EDA and data preprocessing "
   ]
  },
  {
   "cell_type": "code",
   "execution_count": 3,
   "metadata": {},
   "outputs": [],
   "source": [
    "books = pd.read_csv(r\"data\\Clean book data.csv\",index_col=0)\n",
    "rating = pd.read_csv(r\"data\\Ratings.csv\")\n",
    "user = pd.read_csv(r\"data\\Users.csv\")"
   ]
  },
  {
   "cell_type": "code",
   "execution_count": 4,
   "metadata": {},
   "outputs": [
    {
     "data": {
      "text/plain": [
       "8631    006103097X\n",
       "8633    0380763621\n",
       "8637    0380709937\n",
       "8641    0380715740\n",
       "8643    0380709945\n",
       "8649    0394547020\n",
       "8651    0553204262\n",
       "8656    0671460978\n",
       "8663    0060611626\n",
       "8668    0671578294\n",
       "8678    0671665790\n",
       "8680    0395276284\n",
       "8682    0140094296\n",
       "8692    0066620996\n",
       "8694    0446667900\n",
       "8705    0553579312\n",
       "8707    055357924X\n",
       "8709    0425153088\n",
       "8713    0425141977\n",
       "8715    0060616598\n",
       "8717    0802130720\n",
       "8726    0140043888\n",
       "8744    0804114897\n",
       "8750    0804111421\n",
       "9960    087975446X\n",
       "9964    0842329293\n",
       "Name: ISBN, dtype: object"
      ]
     },
     "execution_count": 4,
     "metadata": {},
     "output_type": "execute_result"
    }
   ],
   "source": [
    "# there's some books with the same ISBN\n",
    "books[~books.index.isin(books.drop_duplicates(subset=[\"ISBN\"]).index)].ISBN"
   ]
  },
  {
   "cell_type": "code",
   "execution_count": 5,
   "metadata": {},
   "outputs": [
    {
     "data": {
      "text/html": [
       "<div>\n",
       "<style scoped>\n",
       "    .dataframe tbody tr th:only-of-type {\n",
       "        vertical-align: middle;\n",
       "    }\n",
       "\n",
       "    .dataframe tbody tr th {\n",
       "        vertical-align: top;\n",
       "    }\n",
       "\n",
       "    .dataframe thead th {\n",
       "        text-align: right;\n",
       "    }\n",
       "</style>\n",
       "<table border=\"1\" class=\"dataframe\">\n",
       "  <thead>\n",
       "    <tr style=\"text-align: right;\">\n",
       "      <th></th>\n",
       "      <th>Id</th>\n",
       "      <th>Name</th>\n",
       "      <th>RatingDist1</th>\n",
       "      <th>pagesNumber</th>\n",
       "      <th>RatingDist4</th>\n",
       "      <th>RatingDistTotal</th>\n",
       "      <th>PublishMonth</th>\n",
       "      <th>PublishDay</th>\n",
       "      <th>Publisher_x</th>\n",
       "      <th>CountsOfReview</th>\n",
       "      <th>...</th>\n",
       "      <th>PagesNumber</th>\n",
       "      <th>Book-Title</th>\n",
       "      <th>Book-Author</th>\n",
       "      <th>Year-Of-Publication</th>\n",
       "      <th>Publisher_y</th>\n",
       "      <th>Image-URL-S</th>\n",
       "      <th>Image-URL-M</th>\n",
       "      <th>Image-URL-L</th>\n",
       "      <th>Genre</th>\n",
       "      <th>Genre_user_amount</th>\n",
       "    </tr>\n",
       "  </thead>\n",
       "  <tbody>\n",
       "    <tr>\n",
       "      <th>8630</th>\n",
       "      <td>76760</td>\n",
       "      <td>Hope to Die (Matthew Scudder, #15)</td>\n",
       "      <td>1:14</td>\n",
       "      <td>400</td>\n",
       "      <td>4:925</td>\n",
       "      <td>total:2114</td>\n",
       "      <td>5</td>\n",
       "      <td>11</td>\n",
       "      <td>HarperTorch</td>\n",
       "      <td>130</td>\n",
       "      <td>...</td>\n",
       "      <td>NaN</td>\n",
       "      <td>Hope to Die: A Matthew Scudder Crime Novel (Ma...</td>\n",
       "      <td>Lawrence Block</td>\n",
       "      <td>2002</td>\n",
       "      <td>HarperTorch</td>\n",
       "      <td>http://images.amazon.com/images/P/006103097X.0...</td>\n",
       "      <td>http://images.amazon.com/images/P/006103097X.0...</td>\n",
       "      <td>http://images.amazon.com/images/P/006103097X.0...</td>\n",
       "      <td>Mystery|Fiction|Mystery|Crime|Mystery|Detectiv...</td>\n",
       "      <td>87|44|38|12|11|6|5|4|3|3|</td>\n",
       "    </tr>\n",
       "    <tr>\n",
       "      <th>8631</th>\n",
       "      <td>76760</td>\n",
       "      <td>Hope to Die (Matthew Scudder, #15)</td>\n",
       "      <td>1:14</td>\n",
       "      <td>400</td>\n",
       "      <td>4:926</td>\n",
       "      <td>total:2115</td>\n",
       "      <td>5</td>\n",
       "      <td>11</td>\n",
       "      <td>HarperTorch</td>\n",
       "      <td>130</td>\n",
       "      <td>...</td>\n",
       "      <td>NaN</td>\n",
       "      <td>Hope to Die: A Matthew Scudder Crime Novel (Ma...</td>\n",
       "      <td>Lawrence Block</td>\n",
       "      <td>2002</td>\n",
       "      <td>HarperTorch</td>\n",
       "      <td>http://images.amazon.com/images/P/006103097X.0...</td>\n",
       "      <td>http://images.amazon.com/images/P/006103097X.0...</td>\n",
       "      <td>http://images.amazon.com/images/P/006103097X.0...</td>\n",
       "      <td>Mystery|Fiction|Mystery|Crime|Mystery|Detectiv...</td>\n",
       "      <td>87|44|38|12|11|6|5|4|3|3|</td>\n",
       "    </tr>\n",
       "  </tbody>\n",
       "</table>\n",
       "<p>2 rows × 30 columns</p>\n",
       "</div>"
      ],
      "text/plain": [
       "         Id                                Name RatingDist1  pagesNumber  \\\n",
       "8630  76760  Hope to Die (Matthew Scudder, #15)        1:14          400   \n",
       "8631  76760  Hope to Die (Matthew Scudder, #15)        1:14          400   \n",
       "\n",
       "     RatingDist4 RatingDistTotal  PublishMonth  PublishDay  Publisher_x  \\\n",
       "8630       4:925      total:2114             5          11  HarperTorch   \n",
       "8631       4:926      total:2115             5          11  HarperTorch   \n",
       "\n",
       "      CountsOfReview  ...  PagesNumber  \\\n",
       "8630             130  ...          NaN   \n",
       "8631             130  ...          NaN   \n",
       "\n",
       "                                             Book-Title     Book-Author  \\\n",
       "8630  Hope to Die: A Matthew Scudder Crime Novel (Ma...  Lawrence Block   \n",
       "8631  Hope to Die: A Matthew Scudder Crime Novel (Ma...  Lawrence Block   \n",
       "\n",
       "      Year-Of-Publication  Publisher_y  \\\n",
       "8630                 2002  HarperTorch   \n",
       "8631                 2002  HarperTorch   \n",
       "\n",
       "                                            Image-URL-S  \\\n",
       "8630  http://images.amazon.com/images/P/006103097X.0...   \n",
       "8631  http://images.amazon.com/images/P/006103097X.0...   \n",
       "\n",
       "                                            Image-URL-M  \\\n",
       "8630  http://images.amazon.com/images/P/006103097X.0...   \n",
       "8631  http://images.amazon.com/images/P/006103097X.0...   \n",
       "\n",
       "                                            Image-URL-L  \\\n",
       "8630  http://images.amazon.com/images/P/006103097X.0...   \n",
       "8631  http://images.amazon.com/images/P/006103097X.0...   \n",
       "\n",
       "                                                  Genre  \\\n",
       "8630  Mystery|Fiction|Mystery|Crime|Mystery|Detectiv...   \n",
       "8631  Mystery|Fiction|Mystery|Crime|Mystery|Detectiv...   \n",
       "\n",
       "              Genre_user_amount  \n",
       "8630  87|44|38|12|11|6|5|4|3|3|  \n",
       "8631  87|44|38|12|11|6|5|4|3|3|  \n",
       "\n",
       "[2 rows x 30 columns]"
      ]
     },
     "execution_count": 5,
     "metadata": {},
     "output_type": "execute_result"
    }
   ],
   "source": [
    "# the data is slightly different \n",
    "books[books.ISBN == \"006103097X\"]"
   ]
  },
  {
   "cell_type": "code",
   "execution_count": 6,
   "metadata": {},
   "outputs": [],
   "source": [
    "books = books.drop_duplicates(subset=[\"ISBN\"])"
   ]
  },
  {
   "cell_type": "code",
   "execution_count": 7,
   "metadata": {},
   "outputs": [
    {
     "name": "stdout",
     "output_type": "stream",
     "text": [
      "Number of unique rating: 1149780\n",
      "Number of unique user id: 105283\n",
      "Number of unique ISBN: 340556\n"
     ]
    },
    {
     "data": {
      "text/html": [
       "<div>\n",
       "<style scoped>\n",
       "    .dataframe tbody tr th:only-of-type {\n",
       "        vertical-align: middle;\n",
       "    }\n",
       "\n",
       "    .dataframe tbody tr th {\n",
       "        vertical-align: top;\n",
       "    }\n",
       "\n",
       "    .dataframe thead th {\n",
       "        text-align: right;\n",
       "    }\n",
       "</style>\n",
       "<table border=\"1\" class=\"dataframe\">\n",
       "  <thead>\n",
       "    <tr style=\"text-align: right;\">\n",
       "      <th></th>\n",
       "      <th>User-ID</th>\n",
       "      <th>ISBN</th>\n",
       "      <th>Book-Rating</th>\n",
       "    </tr>\n",
       "  </thead>\n",
       "  <tbody>\n",
       "    <tr>\n",
       "      <th>0</th>\n",
       "      <td>276725</td>\n",
       "      <td>034545104X</td>\n",
       "      <td>0</td>\n",
       "    </tr>\n",
       "    <tr>\n",
       "      <th>1</th>\n",
       "      <td>276726</td>\n",
       "      <td>0155061224</td>\n",
       "      <td>5</td>\n",
       "    </tr>\n",
       "    <tr>\n",
       "      <th>2</th>\n",
       "      <td>276727</td>\n",
       "      <td>0446520802</td>\n",
       "      <td>0</td>\n",
       "    </tr>\n",
       "    <tr>\n",
       "      <th>3</th>\n",
       "      <td>276729</td>\n",
       "      <td>052165615X</td>\n",
       "      <td>3</td>\n",
       "    </tr>\n",
       "    <tr>\n",
       "      <th>4</th>\n",
       "      <td>276729</td>\n",
       "      <td>0521795028</td>\n",
       "      <td>6</td>\n",
       "    </tr>\n",
       "  </tbody>\n",
       "</table>\n",
       "</div>"
      ],
      "text/plain": [
       "   User-ID        ISBN  Book-Rating\n",
       "0   276725  034545104X            0\n",
       "1   276726  0155061224            5\n",
       "2   276727  0446520802            0\n",
       "3   276729  052165615X            3\n",
       "4   276729  0521795028            6"
      ]
     },
     "execution_count": 7,
     "metadata": {},
     "output_type": "execute_result"
    }
   ],
   "source": [
    "print(\"Number of unique rating:\",len(rating.loc[:,[\"User-ID\",\"ISBN\"]].drop_duplicates()))\n",
    "print(\"Number of unique user id:\",len(rating.loc[:,[\"User-ID\"]].drop_duplicates()))\n",
    "print(\"Number of unique ISBN:\",len(rating.loc[:,[\"ISBN\"]].drop_duplicates()))\n",
    "rating.head()"
   ]
  },
  {
   "cell_type": "code",
   "execution_count": 8,
   "metadata": {},
   "outputs": [
    {
     "data": {
      "text/html": [
       "<div>\n",
       "<style scoped>\n",
       "    .dataframe tbody tr th:only-of-type {\n",
       "        vertical-align: middle;\n",
       "    }\n",
       "\n",
       "    .dataframe tbody tr th {\n",
       "        vertical-align: top;\n",
       "    }\n",
       "\n",
       "    .dataframe thead th {\n",
       "        text-align: right;\n",
       "    }\n",
       "</style>\n",
       "<table border=\"1\" class=\"dataframe\">\n",
       "  <thead>\n",
       "    <tr style=\"text-align: right;\">\n",
       "      <th></th>\n",
       "      <th>User-ID</th>\n",
       "      <th>ISBN</th>\n",
       "      <th>Book-Rating</th>\n",
       "    </tr>\n",
       "  </thead>\n",
       "  <tbody>\n",
       "    <tr>\n",
       "      <th>0</th>\n",
       "      <td>276746</td>\n",
       "      <td>0553561618</td>\n",
       "      <td>0</td>\n",
       "    </tr>\n",
       "    <tr>\n",
       "      <th>1</th>\n",
       "      <td>276747</td>\n",
       "      <td>0679776818</td>\n",
       "      <td>8</td>\n",
       "    </tr>\n",
       "    <tr>\n",
       "      <th>2</th>\n",
       "      <td>276748</td>\n",
       "      <td>0747558167</td>\n",
       "      <td>6</td>\n",
       "    </tr>\n",
       "    <tr>\n",
       "      <th>3</th>\n",
       "      <td>276762</td>\n",
       "      <td>034544003X</td>\n",
       "      <td>0</td>\n",
       "    </tr>\n",
       "    <tr>\n",
       "      <th>4</th>\n",
       "      <td>276798</td>\n",
       "      <td>3548603203</td>\n",
       "      <td>6</td>\n",
       "    </tr>\n",
       "  </tbody>\n",
       "</table>\n",
       "</div>"
      ],
      "text/plain": [
       "   User-ID        ISBN  Book-Rating\n",
       "0   276746  0553561618            0\n",
       "1   276747  0679776818            8\n",
       "2   276748  0747558167            6\n",
       "3   276762  034544003X            0\n",
       "4   276798  3548603203            6"
      ]
     },
     "execution_count": 8,
     "metadata": {},
     "output_type": "execute_result"
    }
   ],
   "source": [
    "# since we don't have all books in the database\n",
    "# we need to remove part of the rating that not include in our books dataset\n",
    "book_ISBN_list = books.ISBN.unique().tolist()\n",
    "rating_ISBN = rating.ISBN\n",
    "Filtered_rating = rating[rating_ISBN.isin(book_ISBN_list)].reset_index(drop = True)\n",
    "Filtered_rating.head()"
   ]
  },
  {
   "cell_type": "code",
   "execution_count": 9,
   "metadata": {},
   "outputs": [
    {
     "data": {
      "text/html": [
       "<div>\n",
       "<style scoped>\n",
       "    .dataframe tbody tr th:only-of-type {\n",
       "        vertical-align: middle;\n",
       "    }\n",
       "\n",
       "    .dataframe tbody tr th {\n",
       "        vertical-align: top;\n",
       "    }\n",
       "\n",
       "    .dataframe thead th {\n",
       "        text-align: right;\n",
       "    }\n",
       "</style>\n",
       "<table border=\"1\" class=\"dataframe\">\n",
       "  <thead>\n",
       "    <tr style=\"text-align: right;\">\n",
       "      <th></th>\n",
       "      <th>ISBN</th>\n",
       "      <th>Book-Rating</th>\n",
       "    </tr>\n",
       "    <tr>\n",
       "      <th>User-ID</th>\n",
       "      <th></th>\n",
       "      <th></th>\n",
       "    </tr>\n",
       "  </thead>\n",
       "  <tbody>\n",
       "    <tr>\n",
       "      <th>9</th>\n",
       "      <td>1</td>\n",
       "      <td>1</td>\n",
       "    </tr>\n",
       "    <tr>\n",
       "      <th>39</th>\n",
       "      <td>1</td>\n",
       "      <td>1</td>\n",
       "    </tr>\n",
       "    <tr>\n",
       "      <th>44</th>\n",
       "      <td>1</td>\n",
       "      <td>1</td>\n",
       "    </tr>\n",
       "    <tr>\n",
       "      <th>67</th>\n",
       "      <td>1</td>\n",
       "      <td>1</td>\n",
       "    </tr>\n",
       "    <tr>\n",
       "      <th>75</th>\n",
       "      <td>1</td>\n",
       "      <td>1</td>\n",
       "    </tr>\n",
       "  </tbody>\n",
       "</table>\n",
       "</div>"
      ],
      "text/plain": [
       "         ISBN  Book-Rating\n",
       "User-ID                   \n",
       "9           1            1\n",
       "39          1            1\n",
       "44          1            1\n",
       "67          1            1\n",
       "75          1            1"
      ]
     },
     "execution_count": 9,
     "metadata": {},
     "output_type": "execute_result"
    }
   ],
   "source": [
    "Filtered_rating.groupby(by = \"User-ID\").count().head()"
   ]
  },
  {
   "cell_type": "code",
   "execution_count": 10,
   "metadata": {},
   "outputs": [],
   "source": [
    "books_Genre = pd.DataFrame(books.Genre.str.split(\"|\",expand=True))\n",
    "Genre_count = books_Genre.groupby(by = 1).count().iloc[1:,:]"
   ]
  },
  {
   "cell_type": "code",
   "execution_count": 11,
   "metadata": {},
   "outputs": [
    {
     "name": "stdout",
     "output_type": "stream",
     "text": [
      "(32, 10)\n"
     ]
    }
   ],
   "source": [
    "filter_count = Genre_count[Genre_count>30].dropna().sort_values(by = 0)\n",
    "print(filter_count.shape)"
   ]
  },
  {
   "cell_type": "code",
   "execution_count": 12,
   "metadata": {},
   "outputs": [],
   "source": [
    "file_path = os.path.abspath(os.path.curdir)\n",
    "results_dir = os.path.join(file_path, 'img/')"
   ]
  },
  {
   "cell_type": "code",
   "execution_count": 13,
   "metadata": {},
   "outputs": [],
   "source": [
    "def plot_barh(data,xlabel,ylabel,title,savename,xtickfont = 10, ytickfont = 10,figsize = (10,6)):\n",
    "    file_path = os.path.abspath(os.path.curdir)\n",
    "    results_dir = os.path.join(file_path, 'img/')\n",
    "    if not os.path.isdir(results_dir):\n",
    "        os.makedirs(results_dir)\n",
    "\n",
    "    \n",
    "    plt.figure(figsize=figsize)\n",
    "    plt.barh(width = data.iloc[:,0], y = data.index)\n",
    "    plt.ylabel(ylabel)\n",
    "    plt.xlabel(xlabel)\n",
    "    plt.yticks(fontsize=ytickfont)\n",
    "    plt.title(title, fontsize = 14)\n",
    "    plt.tight_layout()\n",
    "    plt.savefig(results_dir + savename)"
   ]
  },
  {
   "cell_type": "code",
   "execution_count": 14,
   "metadata": {},
   "outputs": [],
   "source": [
    "def plot_dist(data,xlabel,ylabel,title,savename,xtickfont = 10, ytickfont = 10,figsize = (10,6),Bin = 10, xlim = None):\n",
    "    file_path = os.path.abspath(os.path.curdir)\n",
    "    results_dir = os.path.join(file_path, 'img/')\n",
    "    if not os.path.isdir(results_dir):\n",
    "        os.makedirs(results_dir)\n",
    "\n",
    "    \n",
    "    plt.figure(figsize=figsize)\n",
    "    sns.distplot(data,bins=Bin,kde=False)\n",
    "    plt.ylabel(ylabel)\n",
    "    plt.xlabel(xlabel)\n",
    "    plt.yticks(fontsize=ytickfont)\n",
    "    if xlim != None:\n",
    "        plt.xlim(xlim)\n",
    "    plt.title(title, fontsize = 14)\n",
    "    plt.tight_layout()\n",
    "    plt.savefig(results_dir + savename)"
   ]
  },
  {
   "cell_type": "code",
   "execution_count": 15,
   "metadata": {},
   "outputs": [
    {
     "data": {
      "image/png": "[encoded data removed]",
      "text/plain": [
       "<Figure size 720x432 with 1 Axes>"
      ]
     },
     "metadata": {
      "needs_background": "light"
     },
     "output_type": "display_data"
    }
   ],
   "source": [
    "plot_barh(filter_count,\"Book amount\",\"Genre\",\"Book amount in different genre\",\"Book amount in different genre.png\")"
   ]
  },
  {
   "cell_type": "code",
   "execution_count": 16,
   "metadata": {},
   "outputs": [
    {
     "data": {
      "image/png": "[encoded data removed]",
      "text/plain": [
       "<Figure size 720x432 with 1 Axes>"
      ]
     },
     "metadata": {
      "needs_background": "light"
     },
     "output_type": "display_data"
    }
   ],
   "source": [
    "plot_barh(books.groupby(by = \"Language\").count().sort_values(by = \"Id\"),\"Language count\",\"Language\",\"Count of language\",\"Count of language.png\",ytickfont=12)"
   ]
  },
  {
   "cell_type": "code",
   "execution_count": 17,
   "metadata": {},
   "outputs": [
    {
     "data": {
      "image/png": "[encoded data removed]",
      "text/plain": [
       "<Figure size 720x432 with 1 Axes>"
      ]
     },
     "metadata": {
      "needs_background": "light"
     },
     "output_type": "display_data"
    }
   ],
   "source": [
    "plot_barh(books.groupby(by = \"Year-Of-Publication\").count().sort_values(by = \"Id\"),\"Count\",\"Year of publication\",\"Year of publication\",\"Count of Year of publication.png\",ytickfont=12)\n",
    "plt.ylim(1950,2005)\n",
    "plt.tight_layout()\n",
    "plt.savefig(results_dir + \"Count of Year of publication.png\")"
   ]
  },
  {
   "cell_type": "code",
   "execution_count": 18,
   "metadata": {},
   "outputs": [
    {
     "data": {
      "text/plain": [
       "(-10, 400)"
      ]
     },
     "execution_count": 18,
     "metadata": {},
     "output_type": "execute_result"
    },
    {
     "data": {
      "image/png": "[encoded data removed]",
      "text/plain": [
       "<Figure size 720x432 with 1 Axes>"
      ]
     },
     "metadata": {
      "needs_background": "light"
     },
     "output_type": "display_data"
    }
   ],
   "source": [
    "plot_dist(books.loc[:,\"Count of text reviews\"].dropna(),\"Count of text reviews\",\"Freq\",\"Count of text reviews\",\"Count of text reviews.png\",xtickfont=12,Bin= 100)\n",
    "plt.xlim(-10,400)"
   ]
  },
  {
   "cell_type": "code",
   "execution_count": 19,
   "metadata": {},
   "outputs": [
    {
     "data": {
      "image/png": "[encoded data removed]",
      "text/plain": [
       "<Figure size 720x432 with 1 Axes>"
      ]
     },
     "metadata": {
      "needs_background": "light"
     },
     "output_type": "display_data"
    }
   ],
   "source": [
    "plot_dist(Filtered_rating.loc[:,\"Book-Rating\"],\"Rating\",\"Freq of score\",\"Book-Rating distribution\",\"Book-Rating distribution.png\",xtickfont=12,Bin=10)"
   ]
  },
  {
   "cell_type": "code",
   "execution_count": 20,
   "metadata": {},
   "outputs": [
    {
     "name": "stdout",
     "output_type": "stream",
     "text": [
      "Preserve rate of books : 7462\n",
      "Preserve rate of books : 100.00%\n",
      "Preserve rate of users : 8359\n",
      "Preserve rate of users : 38.39%\n"
     ]
    }
   ],
   "source": [
    "# as long as we filtered the user rating less than 1 time\n",
    "# the ramaining rate will be lower than 40% \n",
    "# our user amount is too much for this amount of books so we filtered it\n",
    "conditon_func = lambda x : len(x) >= 2\n",
    "rating_f = Filtered_rating.groupby(by = \"User-ID\").filter(conditon_func)\n",
    "book_rating_list = rating_f.ISBN.unique().tolist()\n",
    "Filtered_books = books[books.ISBN.isin(book_rating_list)]\n",
    "\n",
    "print(f\"Preserve rate of books : {len(rating_f.ISBN.unique())}\")\n",
    "print(f\"Preserve rate of books : {len(rating_f.ISBN.unique())/len(Filtered_books.ISBN.unique())*100:.2f}%\")\n",
    "print(f\"Preserve rate of users : {len(rating_f.loc[:,'User-ID'].unique())}\")\n",
    "print(f\"Preserve rate of users : {len(rating_f.loc[:,'User-ID'].unique())/len(Filtered_rating.loc[:,'User-ID'].unique())*100:.2f}%\")\n"
   ]
  },
  {
   "cell_type": "code",
   "execution_count": 21,
   "metadata": {},
   "outputs": [
    {
     "data": {
      "text/plain": [
       "0"
      ]
     },
     "execution_count": 21,
     "metadata": {},
     "output_type": "execute_result"
    }
   ],
   "source": [
    "len(rating_f.loc[:,\"User-ID\"].unique())//len(Filtered_rating.loc[:,\"User-ID\"].unique())*100"
   ]
  },
  {
   "cell_type": "code",
   "execution_count": 22,
   "metadata": {},
   "outputs": [
    {
     "data": {
      "image/png": "[encoded data removed]",
      "text/plain": [
       "<Figure size 720x432 with 1 Axes>"
      ]
     },
     "metadata": {
      "needs_background": "light"
     },
     "output_type": "display_data"
    }
   ],
   "source": [
    "# (almost 70% )most of the users are only rating once\n",
    "plot_dist(rating_f.groupby(by = \"User-ID\").size(),\"# Rating\",\"Freq of users\",\"Number of books being rated\",\"Number of books being rated.png\",xtickfont=12,Bin=25)"
   ]
  },
  {
   "cell_type": "markdown",
   "metadata": {},
   "source": [
    "# Genre Adjustment"
   ]
  },
  {
   "cell_type": "code",
   "execution_count": 23,
   "metadata": {},
   "outputs": [
    {
     "name": "stderr",
     "output_type": "stream",
     "text": [
      "C:\\Users\\Austin\\Anaconda3\\lib\\site-packages\\ipykernel_launcher.py:1: FutureWarning: The default value of regex will change from True to False in a future version. In addition, single character regular expressions will *not* be treated as literal strings when regex=True.\n",
      "  \"\"\"Entry point for launching an IPython kernel.\n"
     ]
    }
   ],
   "source": [
    "Genre = \"[\\\"\"+books.Genre.str.replace(\"|\",\"\\\",\\\"\")+\"\\\"]\""
   ]
  },
  {
   "cell_type": "code",
   "execution_count": 24,
   "metadata": {},
   "outputs": [],
   "source": [
    "Genre_expand = Genre.apply(lambda x: eval(x)).apply(pd.Series.value_counts).fillna(0)"
   ]
  },
  {
   "cell_type": "code",
   "execution_count": 25,
   "metadata": {},
   "outputs": [],
   "source": [
    "top_20_genre = Genre_expand.sum().sort_values(ascending = False).iloc[1:].index"
   ]
  },
  {
   "cell_type": "code",
   "execution_count": 26,
   "metadata": {},
   "outputs": [],
   "source": [
    "others_genre = Genre_expand.sum().sort_values(ascending = False).iloc[21:].index\n",
    "Genre_copy = Genre.copy()\n"
   ]
  },
  {
   "cell_type": "code",
   "execution_count": 27,
   "metadata": {},
   "outputs": [],
   "source": [
    "Genre_copy_list = Genre_copy.apply(lambda x:eval(x))\n",
    "def replacer(x):\n",
    "    for k,i in enumerate(x):\n",
    "        if i in others_genre:\n",
    "            x[k] = \"others\"\n",
    "    return x\n",
    "Genre_copy_list = Genre_copy_list.apply(lambda x:replacer(x))\n",
    "Genre_copy_list = Genre_copy_list.apply(lambda x: np.unique(np.array(x))[1:])"
   ]
  },
  {
   "cell_type": "code",
   "execution_count": 28,
   "metadata": {},
   "outputs": [
    {
     "data": {
      "text/plain": [
       "0        Adventure|Childrens|Fantasy|Fiction|Young Adul...\n",
       "1        Adventure|Childrens|Fantasy|Fiction|Young Adul...\n",
       "3        Adventure|Classics|Fantasy|Fiction|Humor|Novel...\n",
       "5               Historical|History|Humor|Nonfiction|others\n",
       "7        Adventure|Cultural|History|Humor|Nonfiction|ot...\n",
       "                               ...                        \n",
       "30243                                       Romance|others\n",
       "30246                               Science Fiction|others\n",
       "30257                   Cultural|History|Nonfiction|others\n",
       "30261                               Fiction|Romance|others\n",
       "30280                 Childrens|Fiction|Young Adult|others\n",
       "Name: Genre, Length: 7889, dtype: object"
      ]
     },
     "execution_count": 28,
     "metadata": {},
     "output_type": "execute_result"
    }
   ],
   "source": [
    "Genre_copy_list.apply(lambda x:\"|\".join(x.tolist()))"
   ]
  },
  {
   "cell_type": "markdown",
   "metadata": {},
   "source": [
    "# Collaborative Filtering RS"
   ]
  },
  {
   "cell_type": "code",
   "execution_count": 29,
   "metadata": {},
   "outputs": [
    {
     "data": {
      "text/html": [
       "<div>\n",
       "<style scoped>\n",
       "    .dataframe tbody tr th:only-of-type {\n",
       "        vertical-align: middle;\n",
       "    }\n",
       "\n",
       "    .dataframe tbody tr th {\n",
       "        vertical-align: top;\n",
       "    }\n",
       "\n",
       "    .dataframe thead th {\n",
       "        text-align: right;\n",
       "    }\n",
       "</style>\n",
       "<table border=\"1\" class=\"dataframe\">\n",
       "  <thead>\n",
       "    <tr style=\"text-align: right;\">\n",
       "      <th></th>\n",
       "      <th>ISBN</th>\n",
       "      <th>User-ID</th>\n",
       "      <th>Book-Rating</th>\n",
       "    </tr>\n",
       "  </thead>\n",
       "  <tbody>\n",
       "    <tr>\n",
       "      <th>0</th>\n",
       "      <td>0688172377</td>\n",
       "      <td>276875</td>\n",
       "      <td>0</td>\n",
       "    </tr>\n",
       "    <tr>\n",
       "      <th>1</th>\n",
       "      <td>8806155873</td>\n",
       "      <td>276875</td>\n",
       "      <td>0</td>\n",
       "    </tr>\n",
       "    <tr>\n",
       "      <th>2</th>\n",
       "      <td>0140154078</td>\n",
       "      <td>276925</td>\n",
       "      <td>6</td>\n",
       "    </tr>\n",
       "    <tr>\n",
       "      <th>3</th>\n",
       "      <td>0151010633</td>\n",
       "      <td>276925</td>\n",
       "      <td>0</td>\n",
       "    </tr>\n",
       "    <tr>\n",
       "      <th>4</th>\n",
       "      <td>0316666343</td>\n",
       "      <td>276925</td>\n",
       "      <td>0</td>\n",
       "    </tr>\n",
       "  </tbody>\n",
       "</table>\n",
       "</div>"
      ],
      "text/plain": [
       "         ISBN  User-ID  Book-Rating\n",
       "0  0688172377   276875            0\n",
       "1  8806155873   276875            0\n",
       "2  0140154078   276925            6\n",
       "3  0151010633   276925            0\n",
       "4  0316666343   276925            0"
      ]
     },
     "execution_count": 29,
     "metadata": {},
     "output_type": "execute_result"
    }
   ],
   "source": [
    "rating_f1 = pd.merge(Filtered_books[[\"ISBN\"]],rating_f,on = \"ISBN\", how = \"right\")\n",
    "rating_f1.head()"
   ]
  },
  {
   "cell_type": "code",
   "execution_count": 30,
   "metadata": {},
   "outputs": [
    {
     "data": {
      "text/html": [
       "<div>\n",
       "<style scoped>\n",
       "    .dataframe tbody tr th:only-of-type {\n",
       "        vertical-align: middle;\n",
       "    }\n",
       "\n",
       "    .dataframe tbody tr th {\n",
       "        vertical-align: top;\n",
       "    }\n",
       "\n",
       "    .dataframe thead th {\n",
       "        text-align: right;\n",
       "    }\n",
       "</style>\n",
       "<table border=\"1\" class=\"dataframe\">\n",
       "  <thead>\n",
       "    <tr style=\"text-align: right;\">\n",
       "      <th>User-ID</th>\n",
       "      <th>114</th>\n",
       "      <th>165</th>\n",
       "      <th>242</th>\n",
       "      <th>243</th>\n",
       "      <th>254</th>\n",
       "      <th>272</th>\n",
       "      <th>383</th>\n",
       "      <th>388</th>\n",
       "      <th>408</th>\n",
       "      <th>424</th>\n",
       "      <th>...</th>\n",
       "      <th>278418</th>\n",
       "      <th>278535</th>\n",
       "      <th>278545</th>\n",
       "      <th>278552</th>\n",
       "      <th>278582</th>\n",
       "      <th>278586</th>\n",
       "      <th>278633</th>\n",
       "      <th>278637</th>\n",
       "      <th>278771</th>\n",
       "      <th>278843</th>\n",
       "    </tr>\n",
       "    <tr>\n",
       "      <th>ISBN</th>\n",
       "      <th></th>\n",
       "      <th></th>\n",
       "      <th></th>\n",
       "      <th></th>\n",
       "      <th></th>\n",
       "      <th></th>\n",
       "      <th></th>\n",
       "      <th></th>\n",
       "      <th></th>\n",
       "      <th></th>\n",
       "      <th></th>\n",
       "      <th></th>\n",
       "      <th></th>\n",
       "      <th></th>\n",
       "      <th></th>\n",
       "      <th></th>\n",
       "      <th></th>\n",
       "      <th></th>\n",
       "      <th></th>\n",
       "      <th></th>\n",
       "      <th></th>\n",
       "    </tr>\n",
       "  </thead>\n",
       "  <tbody>\n",
       "    <tr>\n",
       "      <th>0002317850</th>\n",
       "      <td>0.0</td>\n",
       "      <td>0.0</td>\n",
       "      <td>0.0</td>\n",
       "      <td>0.0</td>\n",
       "      <td>0.0</td>\n",
       "      <td>0.0</td>\n",
       "      <td>0.0</td>\n",
       "      <td>0.0</td>\n",
       "      <td>0.0</td>\n",
       "      <td>0.0</td>\n",
       "      <td>...</td>\n",
       "      <td>0.0</td>\n",
       "      <td>0.0</td>\n",
       "      <td>0.0</td>\n",
       "      <td>0.0</td>\n",
       "      <td>0.0</td>\n",
       "      <td>0.0</td>\n",
       "      <td>0.0</td>\n",
       "      <td>0.0</td>\n",
       "      <td>0.0</td>\n",
       "      <td>0.0</td>\n",
       "    </tr>\n",
       "    <tr>\n",
       "      <th>0002727463</th>\n",
       "      <td>0.0</td>\n",
       "      <td>0.0</td>\n",
       "      <td>0.0</td>\n",
       "      <td>0.0</td>\n",
       "      <td>0.0</td>\n",
       "      <td>0.0</td>\n",
       "      <td>0.0</td>\n",
       "      <td>0.0</td>\n",
       "      <td>0.0</td>\n",
       "      <td>0.0</td>\n",
       "      <td>...</td>\n",
       "      <td>0.0</td>\n",
       "      <td>0.0</td>\n",
       "      <td>0.0</td>\n",
       "      <td>0.0</td>\n",
       "      <td>0.0</td>\n",
       "      <td>0.0</td>\n",
       "      <td>0.0</td>\n",
       "      <td>0.0</td>\n",
       "      <td>0.0</td>\n",
       "      <td>0.0</td>\n",
       "    </tr>\n",
       "    <tr>\n",
       "      <th>0006163831</th>\n",
       "      <td>0.0</td>\n",
       "      <td>0.0</td>\n",
       "      <td>0.0</td>\n",
       "      <td>0.0</td>\n",
       "      <td>0.0</td>\n",
       "      <td>0.0</td>\n",
       "      <td>0.0</td>\n",
       "      <td>0.0</td>\n",
       "      <td>0.0</td>\n",
       "      <td>0.0</td>\n",
       "      <td>...</td>\n",
       "      <td>0.0</td>\n",
       "      <td>0.0</td>\n",
       "      <td>0.0</td>\n",
       "      <td>0.0</td>\n",
       "      <td>0.0</td>\n",
       "      <td>0.0</td>\n",
       "      <td>0.0</td>\n",
       "      <td>0.0</td>\n",
       "      <td>0.0</td>\n",
       "      <td>0.0</td>\n",
       "    </tr>\n",
       "    <tr>\n",
       "      <th>0006345530</th>\n",
       "      <td>0.0</td>\n",
       "      <td>0.0</td>\n",
       "      <td>0.0</td>\n",
       "      <td>0.0</td>\n",
       "      <td>0.0</td>\n",
       "      <td>0.0</td>\n",
       "      <td>0.0</td>\n",
       "      <td>0.0</td>\n",
       "      <td>0.0</td>\n",
       "      <td>0.0</td>\n",
       "      <td>...</td>\n",
       "      <td>0.0</td>\n",
       "      <td>0.0</td>\n",
       "      <td>0.0</td>\n",
       "      <td>0.0</td>\n",
       "      <td>0.0</td>\n",
       "      <td>0.0</td>\n",
       "      <td>0.0</td>\n",
       "      <td>0.0</td>\n",
       "      <td>0.0</td>\n",
       "      <td>0.0</td>\n",
       "    </tr>\n",
       "    <tr>\n",
       "      <th>0006512674</th>\n",
       "      <td>0.0</td>\n",
       "      <td>0.0</td>\n",
       "      <td>0.0</td>\n",
       "      <td>0.0</td>\n",
       "      <td>0.0</td>\n",
       "      <td>0.0</td>\n",
       "      <td>0.0</td>\n",
       "      <td>0.0</td>\n",
       "      <td>0.0</td>\n",
       "      <td>0.0</td>\n",
       "      <td>...</td>\n",
       "      <td>0.0</td>\n",
       "      <td>0.0</td>\n",
       "      <td>0.0</td>\n",
       "      <td>0.0</td>\n",
       "      <td>0.0</td>\n",
       "      <td>0.0</td>\n",
       "      <td>0.0</td>\n",
       "      <td>0.0</td>\n",
       "      <td>0.0</td>\n",
       "      <td>0.0</td>\n",
       "    </tr>\n",
       "  </tbody>\n",
       "</table>\n",
       "<p>5 rows × 8359 columns</p>\n",
       "</div>"
      ],
      "text/plain": [
       "User-ID     114     165     242     243     254     272     383     388     \\\n",
       "ISBN                                                                         \n",
       "0002317850     0.0     0.0     0.0     0.0     0.0     0.0     0.0     0.0   \n",
       "0002727463     0.0     0.0     0.0     0.0     0.0     0.0     0.0     0.0   \n",
       "0006163831     0.0     0.0     0.0     0.0     0.0     0.0     0.0     0.0   \n",
       "0006345530     0.0     0.0     0.0     0.0     0.0     0.0     0.0     0.0   \n",
       "0006512674     0.0     0.0     0.0     0.0     0.0     0.0     0.0     0.0   \n",
       "\n",
       "User-ID     408     424     ...  278418  278535  278545  278552  278582  \\\n",
       "ISBN                        ...                                           \n",
       "0002317850     0.0     0.0  ...     0.0     0.0     0.0     0.0     0.0   \n",
       "0002727463     0.0     0.0  ...     0.0     0.0     0.0     0.0     0.0   \n",
       "0006163831     0.0     0.0  ...     0.0     0.0     0.0     0.0     0.0   \n",
       "0006345530     0.0     0.0  ...     0.0     0.0     0.0     0.0     0.0   \n",
       "0006512674     0.0     0.0  ...     0.0     0.0     0.0     0.0     0.0   \n",
       "\n",
       "User-ID     278586  278633  278637  278771  278843  \n",
       "ISBN                                                \n",
       "0002317850     0.0     0.0     0.0     0.0     0.0  \n",
       "0002727463     0.0     0.0     0.0     0.0     0.0  \n",
       "0006163831     0.0     0.0     0.0     0.0     0.0  \n",
       "0006345530     0.0     0.0     0.0     0.0     0.0  \n",
       "0006512674     0.0     0.0     0.0     0.0     0.0  \n",
       "\n",
       "[5 rows x 8359 columns]"
      ]
     },
     "execution_count": 30,
     "metadata": {},
     "output_type": "execute_result"
    }
   ],
   "source": [
    "# create UserID-ISBN sparse matrix\n",
    "rating_f2 = rating_f1.pivot_table(index=\"ISBN\", columns=\"User-ID\",values=\"Book-Rating\").fillna(0)\n",
    "rating_f2.head()"
   ]
  },
  {
   "cell_type": "code",
   "execution_count": 31,
   "metadata": {},
   "outputs": [],
   "source": [
    "user_correlation =  1 - pairwise_distances(rating_f2.T, metric=\"cosine\")\n",
    "user_correlation[np.isnan(user_correlation)] = 0"
   ]
  },
  {
   "cell_type": "code",
   "execution_count": 32,
   "metadata": {},
   "outputs": [],
   "source": [
    "item_correlation =  1 - pairwise_distances(rating_f2, metric=\"cosine\")\n",
    "item_correlation[np.isnan(item_correlation)] = 0"
   ]
  },
  {
   "cell_type": "code",
   "execution_count": 33,
   "metadata": {},
   "outputs": [
    {
     "name": "stdout",
     "output_type": "stream",
     "text": [
      "Shape of user similarity matrix:(8359, 8359)\n",
      "Shape of item similarity matrix:(7462, 7462)\n"
     ]
    }
   ],
   "source": [
    "print(f\"Shape of user similarity matrix:{user_correlation.shape}\")\n",
    "print(f\"Shape of item similarity matrix:{item_correlation.shape}\")"
   ]
  },
  {
   "cell_type": "code",
   "execution_count": 34,
   "metadata": {},
   "outputs": [],
   "source": [
    "# copied from the lab1\n",
    "def predict(ratings, similarity, type='user'):\n",
    "    if type == 'user':\n",
    "        mean_user_rating = ratings.mean(axis=1)\n",
    "        # Use np.newaxis so that mean_user_rating has same format as ratings\n",
    "        ratings_diff = (ratings - mean_user_rating[:, np.newaxis])\n",
    "        pred = mean_user_rating[:, np.newaxis] + similarity.dot(ratings_diff) / np.array([np.abs(similarity).sum(axis=1)]).T\n",
    "        #pred = 0 + similarity.dot(ratings_diff) / np.array([np.abs(similarity).sum(axis=1)]).T\n",
    "    elif type == 'item':\n",
    "        mean_item_rating = ratings.mean(axis=0)\n",
    "        ratings_diff = (ratings - mean_item_rating[np.newaxis, :])\n",
    "        #pred = 0 + ratings_diff.dot(similarity) / np.array([np.abs(similarity).sum(axis=1)])\n",
    "        # not sure why this is not a np.array so can't apply clip\n",
    "        pred = mean_item_rating[np.newaxis, :] + ratings_diff.dot(similarity) / np.array([np.abs(similarity).sum(axis=1)])\n",
    "        pred = np.array(pred)\n",
    "    elif type == 'content':\n",
    "        pred = ratings.dot(similarity) / np.array([np.abs(similarity).sum(axis=1)])\n",
    "        pred = np.array(pred)\n",
    "    return pred.clip(min = 0)"
   ]
  },
  {
   "cell_type": "code",
   "execution_count": 35,
   "metadata": {},
   "outputs": [
    {
     "name": "stderr",
     "output_type": "stream",
     "text": [
      "C:\\Users\\Austin\\Anaconda3\\lib\\site-packages\\ipykernel_launcher.py:6: FutureWarning: Support for multi-dimensional indexing (e.g. `obj[:, None]`) is deprecated and will be removed in a future version.  Convert to a numpy array before indexing instead.\n",
      "  \n",
      "C:\\Users\\Austin\\Anaconda3\\lib\\site-packages\\ipykernel_launcher.py:7: FutureWarning: Support for multi-dimensional indexing (e.g. `obj[:, None]`) is deprecated and will be removed in a future version.  Convert to a numpy array before indexing instead.\n",
      "  import sys\n",
      "C:\\Users\\Austin\\Anaconda3\\lib\\site-packages\\ipykernel_launcher.py:7: RuntimeWarning: invalid value encountered in true_divide\n",
      "  import sys\n",
      "C:\\Users\\Austin\\Anaconda3\\lib\\site-packages\\ipykernel_launcher.py:11: FutureWarning: Support for multi-dimensional indexing (e.g. `obj[:, None]`) is deprecated and will be removed in a future version.  Convert to a numpy array before indexing instead.\n",
      "  # This is added back by InteractiveShellApp.init_path()\n",
      "C:\\Users\\Austin\\Anaconda3\\lib\\site-packages\\ipykernel_launcher.py:14: FutureWarning: Support for multi-dimensional indexing (e.g. `obj[:, None]`) is deprecated and will be removed in a future version.  Convert to a numpy array before indexing instead.\n",
      "  \n"
     ]
    }
   ],
   "source": [
    "user_prediction = predict(rating_f2.T, user_correlation, type='user').clip(min = 0)\n",
    "item_prediction = predict(rating_f2.T, item_correlation, type='item').clip(min = 0)"
   ]
  },
  {
   "cell_type": "code",
   "execution_count": 36,
   "metadata": {},
   "outputs": [],
   "source": [
    "user_pred_df = pd.DataFrame(user_prediction, columns = list(Filtered_books.ISBN)).fillna(0)\n",
    "item_pred_df = pd.DataFrame(item_prediction, columns = list(Filtered_books.ISBN)).fillna(0)"
   ]
  },
  {
   "cell_type": "code",
   "execution_count": 37,
   "metadata": {},
   "outputs": [],
   "source": [
    "def recommend_books(pred_df, userID, books, original_ratings, num_recommendations, method_name):\n",
    "    # Get and sort the user's predictions\n",
    "    user_row_number = userID - 1 # User ID starts at 1, not 0\n",
    "    sorted_user_predictions = pred_df.iloc[user_row_number].sort_values(ascending=False) # User ID starts at 1\n",
    "    original_ratings = original_ratings.sort_values(by= \"User-ID\",ascending=False)\n",
    "    # Get the user's data and merge in the books information.\n",
    "    \n",
    "    # ID might not exist so pick up a user that actually exist\n",
    "    real_ID_list = original_ratings.drop_duplicates(subset =\"User-ID\").loc[:,\"User-ID\"]\n",
    "    real_ID = real_ID_list.iloc[user_row_number]\n",
    "    user_data = original_ratings[original_ratings.loc[:,\"User-ID\"] == (real_ID)]\n",
    "    user_full = (user_data.merge(books, how = 'left', left_on = 'ISBN', right_on = 'ISBN').\n",
    "                     sort_values(['Book-Rating'], ascending=False)\n",
    "                 )\n",
    "    \n",
    "    # Recommend the highest predicted rating books that the user hasn't seen yet.\n",
    "    recommendations = (books[~books['ISBN'].isin(user_full['ISBN'])].\n",
    "         merge(pd.DataFrame(sorted_user_predictions).rename_axis('ISBN').reset_index(), how = 'left',\n",
    "               left_on = 'ISBN',\n",
    "               right_on = 'ISBN').\n",
    "         rename(columns = {user_row_number: method_name}).\n",
    "         sort_values(method_name, ascending = False).\n",
    "                       iloc[:num_recommendations, :]\n",
    "                      )\n",
    "    # specify column for user/item base\n",
    "    try:\n",
    "        user_full = user_full.loc[:,[\"Id\",\"Name\",\"ISBN\",\"Publisher_x\",\"Genre\"]]\n",
    "        recommendations = recommendations.loc[:,[\"Id\",\"Name\",\"ISBN\",\"Publisher_x\",\"Genre\", method_name]]\n",
    "    except:\n",
    "        pass\n",
    "    return user_full, recommendations"
   ]
  },
  {
   "cell_type": "code",
   "execution_count": 38,
   "metadata": {},
   "outputs": [
    {
     "name": "stdout",
     "output_type": "stream",
     "text": [
      "Collaborative Filtering RS (user-based)\n"
     ]
    },
    {
     "data": {
      "text/html": [
       "<div>\n",
       "<style scoped>\n",
       "    .dataframe tbody tr th:only-of-type {\n",
       "        vertical-align: middle;\n",
       "    }\n",
       "\n",
       "    .dataframe tbody tr th {\n",
       "        vertical-align: top;\n",
       "    }\n",
       "\n",
       "    .dataframe thead th {\n",
       "        text-align: right;\n",
       "    }\n",
       "</style>\n",
       "<table border=\"1\" class=\"dataframe\">\n",
       "  <thead>\n",
       "    <tr style=\"text-align: right;\">\n",
       "      <th></th>\n",
       "      <th>Id</th>\n",
       "      <th>Name</th>\n",
       "      <th>ISBN</th>\n",
       "      <th>Publisher_x</th>\n",
       "      <th>Genre</th>\n",
       "      <th>CF_user_pred_rating</th>\n",
       "    </tr>\n",
       "  </thead>\n",
       "  <tbody>\n",
       "    <tr>\n",
       "      <th>315</th>\n",
       "      <td>9444</td>\n",
       "      <td>The Complete Collected Poems</td>\n",
       "      <td>067942895X</td>\n",
       "      <td>Random House</td>\n",
       "      <td>Poetry|Classics|Feminism|Nonfiction|Cultural|A...</td>\n",
       "      <td>6.162680</td>\n",
       "    </tr>\n",
       "    <tr>\n",
       "      <th>3254</th>\n",
       "      <td>81039</td>\n",
       "      <td>Silver Birch, Blood Moon</td>\n",
       "      <td>0380786222</td>\n",
       "      <td>Eos</td>\n",
       "      <td>Fantasy|Short Stories|Fantasy|Fairy Tales|Anth...</td>\n",
       "      <td>1.843908</td>\n",
       "    </tr>\n",
       "    <tr>\n",
       "      <th>1433</th>\n",
       "      <td>39305</td>\n",
       "      <td>Minion (Vampire Huntress, #1)</td>\n",
       "      <td>0312987013</td>\n",
       "      <td>St. Martin's Paperback</td>\n",
       "      <td>Paranormal|Vampires|Fantasy|Urban Fantasy|Fant...</td>\n",
       "      <td>0.728427</td>\n",
       "    </tr>\n",
       "    <tr>\n",
       "      <th>1424</th>\n",
       "      <td>38951</td>\n",
       "      <td>The Day My Butt Went Psycho</td>\n",
       "      <td>0439424690</td>\n",
       "      <td>Scholastic, Inc.</td>\n",
       "      <td>Childrens|Humor|Fantasy|Fiction|Young Adult|Ch...</td>\n",
       "      <td>0.441344</td>\n",
       "    </tr>\n",
       "    <tr>\n",
       "      <th>3267</th>\n",
       "      <td>81840</td>\n",
       "      <td>Murder Machine</td>\n",
       "      <td>0451403878</td>\n",
       "      <td>Berkley Books</td>\n",
       "      <td>Crime|True Crime|Nonfiction|Mystery|Crime|Hist...</td>\n",
       "      <td>0.421917</td>\n",
       "    </tr>\n",
       "    <tr>\n",
       "      <th>5703</th>\n",
       "      <td>159299</td>\n",
       "      <td>KnitLit: Sweaters and Their Stories...and Othe...</td>\n",
       "      <td>0609808249</td>\n",
       "      <td>Harmony</td>\n",
       "      <td>Crafts|Knitting|Nonfiction|Short Stories|Art|C...</td>\n",
       "      <td>0.281151</td>\n",
       "    </tr>\n",
       "    <tr>\n",
       "      <th>4555</th>\n",
       "      <td>110457</td>\n",
       "      <td>Nadja</td>\n",
       "      <td>0802150268</td>\n",
       "      <td>Grove Press</td>\n",
       "      <td>Fiction|Cultural|France|Classics|Literature|Eu...</td>\n",
       "      <td>0.248084</td>\n",
       "    </tr>\n",
       "    <tr>\n",
       "      <th>2412</th>\n",
       "      <td>61924</td>\n",
       "      <td>Freedom's Choice (Catteni, #2)</td>\n",
       "      <td>0441005314</td>\n",
       "      <td>Ace</td>\n",
       "      <td>Science Fiction|Fantasy|Fiction|Science Fictio...</td>\n",
       "      <td>0.236764</td>\n",
       "    </tr>\n",
       "    <tr>\n",
       "      <th>2965</th>\n",
       "      <td>76969</td>\n",
       "      <td>The Secret of the Caves (The Hardy Boys, #7)</td>\n",
       "      <td>0448089076</td>\n",
       "      <td>Grosset &amp; Dunlap</td>\n",
       "      <td>Mystery|Fiction|Young Adult|Childrens|Adventur...</td>\n",
       "      <td>0.222964</td>\n",
       "    </tr>\n",
       "    <tr>\n",
       "      <th>3238</th>\n",
       "      <td>80583</td>\n",
       "      <td>Messengers of God: Biblical Portraits and Legends</td>\n",
       "      <td>067154134X</td>\n",
       "      <td>Simon &amp; Schuster</td>\n",
       "      <td>Religion|Religion|Judaism|Literature|Jewish|No...</td>\n",
       "      <td>0.211640</td>\n",
       "    </tr>\n",
       "  </tbody>\n",
       "</table>\n",
       "</div>"
      ],
      "text/plain": [
       "          Id                                               Name        ISBN  \\\n",
       "315     9444                       The Complete Collected Poems  067942895X   \n",
       "3254   81039                           Silver Birch, Blood Moon  0380786222   \n",
       "1433   39305                      Minion (Vampire Huntress, #1)  0312987013   \n",
       "1424   38951                        The Day My Butt Went Psycho  0439424690   \n",
       "3267   81840                                     Murder Machine  0451403878   \n",
       "5703  159299  KnitLit: Sweaters and Their Stories...and Othe...  0609808249   \n",
       "4555  110457                                              Nadja  0802150268   \n",
       "2412   61924                     Freedom's Choice (Catteni, #2)  0441005314   \n",
       "2965   76969       The Secret of the Caves (The Hardy Boys, #7)  0448089076   \n",
       "3238   80583  Messengers of God: Biblical Portraits and Legends  067154134X   \n",
       "\n",
       "                 Publisher_x  \\\n",
       "315             Random House   \n",
       "3254                     Eos   \n",
       "1433  St. Martin's Paperback   \n",
       "1424        Scholastic, Inc.   \n",
       "3267           Berkley Books   \n",
       "5703                 Harmony   \n",
       "4555             Grove Press   \n",
       "2412                     Ace   \n",
       "2965        Grosset & Dunlap   \n",
       "3238        Simon & Schuster   \n",
       "\n",
       "                                                  Genre  CF_user_pred_rating  \n",
       "315   Poetry|Classics|Feminism|Nonfiction|Cultural|A...             6.162680  \n",
       "3254  Fantasy|Short Stories|Fantasy|Fairy Tales|Anth...             1.843908  \n",
       "1433  Paranormal|Vampires|Fantasy|Urban Fantasy|Fant...             0.728427  \n",
       "1424  Childrens|Humor|Fantasy|Fiction|Young Adult|Ch...             0.441344  \n",
       "3267  Crime|True Crime|Nonfiction|Mystery|Crime|Hist...             0.421917  \n",
       "5703  Crafts|Knitting|Nonfiction|Short Stories|Art|C...             0.281151  \n",
       "4555  Fiction|Cultural|France|Classics|Literature|Eu...             0.248084  \n",
       "2412  Science Fiction|Fantasy|Fiction|Science Fictio...             0.236764  \n",
       "2965  Mystery|Fiction|Young Adult|Childrens|Adventur...             0.222964  \n",
       "3238  Religion|Religion|Judaism|Literature|Jewish|No...             0.211640  "
      ]
     },
     "execution_count": 38,
     "metadata": {},
     "output_type": "execute_result"
    }
   ],
   "source": [
    "# user 2\n",
    "print(\"Collaborative Filtering RS (user-based)\")\n",
    "user_full, recommendations = recommend_books(user_pred_df, 2, Filtered_books, rating_f1, 10, 'CF_user_pred_rating')\n",
    "recommendations\n"
   ]
  },
  {
   "cell_type": "code",
   "execution_count": 39,
   "metadata": {},
   "outputs": [
    {
     "name": "stdout",
     "output_type": "stream",
     "text": [
      "Collaborative Filtering RS (item-based)\n"
     ]
    },
    {
     "data": {
      "text/html": [
       "<div>\n",
       "<style scoped>\n",
       "    .dataframe tbody tr th:only-of-type {\n",
       "        vertical-align: middle;\n",
       "    }\n",
       "\n",
       "    .dataframe tbody tr th {\n",
       "        vertical-align: top;\n",
       "    }\n",
       "\n",
       "    .dataframe thead th {\n",
       "        text-align: right;\n",
       "    }\n",
       "</style>\n",
       "<table border=\"1\" class=\"dataframe\">\n",
       "  <thead>\n",
       "    <tr style=\"text-align: right;\">\n",
       "      <th></th>\n",
       "      <th>Id</th>\n",
       "      <th>Name</th>\n",
       "      <th>ISBN</th>\n",
       "      <th>Publisher_x</th>\n",
       "      <th>Genre</th>\n",
       "      <th>CF_item_pred_rating</th>\n",
       "    </tr>\n",
       "  </thead>\n",
       "  <tbody>\n",
       "    <tr>\n",
       "      <th>7072</th>\n",
       "      <td>1171871</td>\n",
       "      <td>Monet: The Ultimate Impressionist</td>\n",
       "      <td>0810928833</td>\n",
       "      <td>Harry N. Abrams</td>\n",
       "      <td>Art|Biography|Nonfiction|Art|Art History|</td>\n",
       "      <td>0.800041</td>\n",
       "    </tr>\n",
       "    <tr>\n",
       "      <th>5364</th>\n",
       "      <td>144112</td>\n",
       "      <td>Brotherhood of the Wolf (Runelords, #2)</td>\n",
       "      <td>0812570693</td>\n",
       "      <td>Tor Fantasy</td>\n",
       "      <td>Fantasy|Fiction|Fantasy|Epic Fantasy|Science F...</td>\n",
       "      <td>0.548887</td>\n",
       "    </tr>\n",
       "    <tr>\n",
       "      <th>7131</th>\n",
       "      <td>1179722</td>\n",
       "      <td>In Praise of Younger Men (Three Heroes #1; Com...</td>\n",
       "      <td>0451203801</td>\n",
       "      <td>Signet</td>\n",
       "      <td>Romance|Historical Romance|Romance|Anthologies...</td>\n",
       "      <td>0.492095</td>\n",
       "    </tr>\n",
       "    <tr>\n",
       "      <th>315</th>\n",
       "      <td>9444</td>\n",
       "      <td>The Complete Collected Poems</td>\n",
       "      <td>067942895X</td>\n",
       "      <td>Random House</td>\n",
       "      <td>Poetry|Classics|Feminism|Nonfiction|Cultural|A...</td>\n",
       "      <td>0.470967</td>\n",
       "    </tr>\n",
       "    <tr>\n",
       "      <th>447</th>\n",
       "      <td>12335</td>\n",
       "      <td>Savage Beauty: The Life of Edna St. Vincent Mi...</td>\n",
       "      <td>0375760814</td>\n",
       "      <td>Random House Trade</td>\n",
       "      <td>Biography|Nonfiction|Poetry|Biography Memoir|H...</td>\n",
       "      <td>0.435378</td>\n",
       "    </tr>\n",
       "    <tr>\n",
       "      <th>651</th>\n",
       "      <td>17658</td>\n",
       "      <td>Trauma</td>\n",
       "      <td>0451205553</td>\n",
       "      <td>Signet</td>\n",
       "      <td>Horror|Fiction|Fantasy|</td>\n",
       "      <td>0.418918</td>\n",
       "    </tr>\n",
       "    <tr>\n",
       "      <th>7153</th>\n",
       "      <td>1182325</td>\n",
       "      <td>High Hopes: The Amityville Murders</td>\n",
       "      <td>0440135427</td>\n",
       "      <td>Dell</td>\n",
       "      <td>Crime|True Crime|Nonfiction|Fantasy|</td>\n",
       "      <td>0.418918</td>\n",
       "    </tr>\n",
       "    <tr>\n",
       "      <th>1433</th>\n",
       "      <td>39305</td>\n",
       "      <td>Minion (Vampire Huntress, #1)</td>\n",
       "      <td>0312987013</td>\n",
       "      <td>St. Martin's Paperback</td>\n",
       "      <td>Paranormal|Vampires|Fantasy|Urban Fantasy|Fant...</td>\n",
       "      <td>0.418224</td>\n",
       "    </tr>\n",
       "    <tr>\n",
       "      <th>5185</th>\n",
       "      <td>135920</td>\n",
       "      <td>The Fourth Deadly Sin (Deadly Sins, #5)</td>\n",
       "      <td>0425090787</td>\n",
       "      <td>Berkley</td>\n",
       "      <td>Mystery|Fiction|Thriller|Mystery|Crime|Suspens...</td>\n",
       "      <td>0.399553</td>\n",
       "    </tr>\n",
       "    <tr>\n",
       "      <th>6996</th>\n",
       "      <td>1158997</td>\n",
       "      <td>Altered States</td>\n",
       "      <td>0679773258</td>\n",
       "      <td>Vintage</td>\n",
       "      <td>Fiction|Literary Fiction|Novels|Classics|Europ...</td>\n",
       "      <td>0.395676</td>\n",
       "    </tr>\n",
       "  </tbody>\n",
       "</table>\n",
       "</div>"
      ],
      "text/plain": [
       "           Id                                               Name        ISBN  \\\n",
       "7072  1171871                  Monet: The Ultimate Impressionist  0810928833   \n",
       "5364   144112            Brotherhood of the Wolf (Runelords, #2)  0812570693   \n",
       "7131  1179722  In Praise of Younger Men (Three Heroes #1; Com...  0451203801   \n",
       "315      9444                       The Complete Collected Poems  067942895X   \n",
       "447     12335  Savage Beauty: The Life of Edna St. Vincent Mi...  0375760814   \n",
       "651     17658                                             Trauma  0451205553   \n",
       "7153  1182325                 High Hopes: The Amityville Murders  0440135427   \n",
       "1433    39305                      Minion (Vampire Huntress, #1)  0312987013   \n",
       "5185   135920            The Fourth Deadly Sin (Deadly Sins, #5)  0425090787   \n",
       "6996  1158997                                     Altered States  0679773258   \n",
       "\n",
       "                 Publisher_x  \\\n",
       "7072         Harry N. Abrams   \n",
       "5364             Tor Fantasy   \n",
       "7131                  Signet   \n",
       "315             Random House   \n",
       "447       Random House Trade   \n",
       "651                   Signet   \n",
       "7153                    Dell   \n",
       "1433  St. Martin's Paperback   \n",
       "5185                 Berkley   \n",
       "6996                 Vintage   \n",
       "\n",
       "                                                  Genre  CF_item_pred_rating  \n",
       "7072          Art|Biography|Nonfiction|Art|Art History|             0.800041  \n",
       "5364  Fantasy|Fiction|Fantasy|Epic Fantasy|Science F...             0.548887  \n",
       "7131  Romance|Historical Romance|Romance|Anthologies...             0.492095  \n",
       "315   Poetry|Classics|Feminism|Nonfiction|Cultural|A...             0.470967  \n",
       "447   Biography|Nonfiction|Poetry|Biography Memoir|H...             0.435378  \n",
       "651                             Horror|Fiction|Fantasy|             0.418918  \n",
       "7153               Crime|True Crime|Nonfiction|Fantasy|             0.418918  \n",
       "1433  Paranormal|Vampires|Fantasy|Urban Fantasy|Fant...             0.418224  \n",
       "5185  Mystery|Fiction|Thriller|Mystery|Crime|Suspens...             0.399553  \n",
       "6996  Fiction|Literary Fiction|Novels|Classics|Europ...             0.395676  "
      ]
     },
     "execution_count": 39,
     "metadata": {},
     "output_type": "execute_result"
    }
   ],
   "source": [
    "# item 1\n",
    "print('Collaborative Filtering RS (item-based)')\n",
    "user_full, recommendations = recommend_books(item_pred_df, 2, Filtered_books, rating_f1, 10, 'CF_item_pred_rating')\n",
    "recommendations"
   ]
  },
  {
   "cell_type": "code",
   "execution_count": 40,
   "metadata": {},
   "outputs": [
    {
     "name": "stdout",
     "output_type": "stream",
     "text": [
      "Collaborative Filtering RS (user-based)\n"
     ]
    },
    {
     "data": {
      "text/html": [
       "<div>\n",
       "<style scoped>\n",
       "    .dataframe tbody tr th:only-of-type {\n",
       "        vertical-align: middle;\n",
       "    }\n",
       "\n",
       "    .dataframe tbody tr th {\n",
       "        vertical-align: top;\n",
       "    }\n",
       "\n",
       "    .dataframe thead th {\n",
       "        text-align: right;\n",
       "    }\n",
       "</style>\n",
       "<table border=\"1\" class=\"dataframe\">\n",
       "  <thead>\n",
       "    <tr style=\"text-align: right;\">\n",
       "      <th></th>\n",
       "      <th>Id</th>\n",
       "      <th>Name</th>\n",
       "      <th>ISBN</th>\n",
       "      <th>Publisher_x</th>\n",
       "      <th>Genre</th>\n",
       "      <th>CF_user_pred_rating</th>\n",
       "    </tr>\n",
       "  </thead>\n",
       "  <tbody>\n",
       "    <tr>\n",
       "      <th>3251</th>\n",
       "      <td>81039</td>\n",
       "      <td>Silver Birch, Blood Moon</td>\n",
       "      <td>0380786222</td>\n",
       "      <td>Eos</td>\n",
       "      <td>Fantasy|Short Stories|Fantasy|Fairy Tales|Anth...</td>\n",
       "      <td>6.687907</td>\n",
       "    </tr>\n",
       "    <tr>\n",
       "      <th>3481</th>\n",
       "      <td>88007</td>\n",
       "      <td>The Wind from Hastings</td>\n",
       "      <td>1568496133</td>\n",
       "      <td>Buccaneer Books</td>\n",
       "      <td>Historical|Historical Fiction|Fiction|Historic...</td>\n",
       "      <td>1.248041</td>\n",
       "    </tr>\n",
       "    <tr>\n",
       "      <th>3254</th>\n",
       "      <td>81122</td>\n",
       "      <td>Dark Dance (Blood Opera Sequence, #1)</td>\n",
       "      <td>044021274X</td>\n",
       "      <td>Dell</td>\n",
       "      <td>Horror|Paranormal|Vampires|Fantasy|Fiction|Got...</td>\n",
       "      <td>0.598390</td>\n",
       "    </tr>\n",
       "    <tr>\n",
       "      <th>3235</th>\n",
       "      <td>80583</td>\n",
       "      <td>Messengers of God: Biblical Portraits and Legends</td>\n",
       "      <td>067154134X</td>\n",
       "      <td>Simon &amp; Schuster</td>\n",
       "      <td>Religion|Religion|Judaism|Literature|Jewish|No...</td>\n",
       "      <td>0.512321</td>\n",
       "    </tr>\n",
       "    <tr>\n",
       "      <th>1433</th>\n",
       "      <td>39305</td>\n",
       "      <td>Minion (Vampire Huntress, #1)</td>\n",
       "      <td>0312987013</td>\n",
       "      <td>St. Martin's Paperback</td>\n",
       "      <td>Paranormal|Vampires|Fantasy|Urban Fantasy|Fant...</td>\n",
       "      <td>0.410913</td>\n",
       "    </tr>\n",
       "    <tr>\n",
       "      <th>5438</th>\n",
       "      <td>148251</td>\n",
       "      <td>The Jaguar Knights</td>\n",
       "      <td>0060555114</td>\n",
       "      <td>Harper Voyager</td>\n",
       "      <td>Fantasy|Fiction|Adventure|Fantasy|Epic Fantasy...</td>\n",
       "      <td>0.396039</td>\n",
       "    </tr>\n",
       "    <tr>\n",
       "      <th>3242</th>\n",
       "      <td>80763</td>\n",
       "      <td>Use Your Perfect Memory: Dramatic New Techniqu...</td>\n",
       "      <td>0452266068</td>\n",
       "      <td>Plume Books</td>\n",
       "      <td>Self Help|Psychology|Nonfiction|Neuroscience|</td>\n",
       "      <td>0.372348</td>\n",
       "    </tr>\n",
       "    <tr>\n",
       "      <th>3233</th>\n",
       "      <td>80518</td>\n",
       "      <td>Four Major Plays 2: Ghosts/An Enemy of the Peo...</td>\n",
       "      <td>0451528034</td>\n",
       "      <td>Signet Classics</td>\n",
       "      <td>Drama|Plays|Fiction|Classics|European Literatu...</td>\n",
       "      <td>0.361070</td>\n",
       "    </tr>\n",
       "    <tr>\n",
       "      <th>3243</th>\n",
       "      <td>80781</td>\n",
       "      <td>The Perfect Summer</td>\n",
       "      <td>0553584049</td>\n",
       "      <td>Bantam</td>\n",
       "      <td>Romance|Fiction|Womens Fiction|Chick Lit|Myste...</td>\n",
       "      <td>0.357578</td>\n",
       "    </tr>\n",
       "    <tr>\n",
       "      <th>3264</th>\n",
       "      <td>81840</td>\n",
       "      <td>Murder Machine</td>\n",
       "      <td>0451403878</td>\n",
       "      <td>Berkley Books</td>\n",
       "      <td>Crime|True Crime|Nonfiction|Mystery|Crime|Hist...</td>\n",
       "      <td>0.355856</td>\n",
       "    </tr>\n",
       "  </tbody>\n",
       "</table>\n",
       "</div>"
      ],
      "text/plain": [
       "          Id                                               Name        ISBN  \\\n",
       "3251   81039                           Silver Birch, Blood Moon  0380786222   \n",
       "3481   88007                             The Wind from Hastings  1568496133   \n",
       "3254   81122              Dark Dance (Blood Opera Sequence, #1)  044021274X   \n",
       "3235   80583  Messengers of God: Biblical Portraits and Legends  067154134X   \n",
       "1433   39305                      Minion (Vampire Huntress, #1)  0312987013   \n",
       "5438  148251                                 The Jaguar Knights  0060555114   \n",
       "3242   80763  Use Your Perfect Memory: Dramatic New Techniqu...  0452266068   \n",
       "3233   80518  Four Major Plays 2: Ghosts/An Enemy of the Peo...  0451528034   \n",
       "3243   80781                                 The Perfect Summer  0553584049   \n",
       "3264   81840                                     Murder Machine  0451403878   \n",
       "\n",
       "                 Publisher_x  \\\n",
       "3251                     Eos   \n",
       "3481         Buccaneer Books   \n",
       "3254                    Dell   \n",
       "3235        Simon & Schuster   \n",
       "1433  St. Martin's Paperback   \n",
       "5438          Harper Voyager   \n",
       "3242             Plume Books   \n",
       "3233         Signet Classics   \n",
       "3243                  Bantam   \n",
       "3264           Berkley Books   \n",
       "\n",
       "                                                  Genre  CF_user_pred_rating  \n",
       "3251  Fantasy|Short Stories|Fantasy|Fairy Tales|Anth...             6.687907  \n",
       "3481  Historical|Historical Fiction|Fiction|Historic...             1.248041  \n",
       "3254  Horror|Paranormal|Vampires|Fantasy|Fiction|Got...             0.598390  \n",
       "3235  Religion|Religion|Judaism|Literature|Jewish|No...             0.512321  \n",
       "1433  Paranormal|Vampires|Fantasy|Urban Fantasy|Fant...             0.410913  \n",
       "5438  Fantasy|Fiction|Adventure|Fantasy|Epic Fantasy...             0.396039  \n",
       "3242      Self Help|Psychology|Nonfiction|Neuroscience|             0.372348  \n",
       "3233  Drama|Plays|Fiction|Classics|European Literatu...             0.361070  \n",
       "3243  Romance|Fiction|Womens Fiction|Chick Lit|Myste...             0.357578  \n",
       "3264  Crime|True Crime|Nonfiction|Mystery|Crime|Hist...             0.355856  "
      ]
     },
     "execution_count": 40,
     "metadata": {},
     "output_type": "execute_result"
    }
   ],
   "source": [
    "# user 1\n",
    "print(\"Collaborative Filtering RS (user-based)\")\n",
    "user_full, recommendations = recommend_books(user_pred_df, 1, Filtered_books, rating_f1, 10, 'CF_user_pred_rating')\n",
    "recommendations\n"
   ]
  },
  {
   "cell_type": "code",
   "execution_count": 41,
   "metadata": {},
   "outputs": [
    {
     "name": "stdout",
     "output_type": "stream",
     "text": [
      "Collaborative Filtering RS (item-based)\n"
     ]
    },
    {
     "data": {
      "text/html": [
       "<div>\n",
       "<style scoped>\n",
       "    .dataframe tbody tr th:only-of-type {\n",
       "        vertical-align: middle;\n",
       "    }\n",
       "\n",
       "    .dataframe tbody tr th {\n",
       "        vertical-align: top;\n",
       "    }\n",
       "\n",
       "    .dataframe thead th {\n",
       "        text-align: right;\n",
       "    }\n",
       "</style>\n",
       "<table border=\"1\" class=\"dataframe\">\n",
       "  <thead>\n",
       "    <tr style=\"text-align: right;\">\n",
       "      <th></th>\n",
       "      <th>Id</th>\n",
       "      <th>Name</th>\n",
       "      <th>ISBN</th>\n",
       "      <th>Publisher_x</th>\n",
       "      <th>Genre</th>\n",
       "      <th>CF_item_pred_rating</th>\n",
       "    </tr>\n",
       "  </thead>\n",
       "  <tbody>\n",
       "    <tr>\n",
       "      <th>5424</th>\n",
       "      <td>147802</td>\n",
       "      <td>Black Water 2: More Tales of the Fantastic</td>\n",
       "      <td>0517575590</td>\n",
       "      <td>Three Rivers Press</td>\n",
       "      <td>Short Stories|Fantasy|Fiction|Horror|Anthologi...</td>\n",
       "      <td>2.013268</td>\n",
       "    </tr>\n",
       "    <tr>\n",
       "      <th>447</th>\n",
       "      <td>12335</td>\n",
       "      <td>Savage Beauty: The Life of Edna St. Vincent Mi...</td>\n",
       "      <td>0375760814</td>\n",
       "      <td>Random House Trade</td>\n",
       "      <td>Biography|Nonfiction|Poetry|Biography Memoir|H...</td>\n",
       "      <td>0.793342</td>\n",
       "    </tr>\n",
       "    <tr>\n",
       "      <th>5311</th>\n",
       "      <td>141828</td>\n",
       "      <td>L'Écume des jours</td>\n",
       "      <td>2253140872</td>\n",
       "      <td>Le Livre de Poche</td>\n",
       "      <td>Fiction|Cultural|France|Classics|European Lite...</td>\n",
       "      <td>0.784068</td>\n",
       "    </tr>\n",
       "    <tr>\n",
       "      <th>5230</th>\n",
       "      <td>138009</td>\n",
       "      <td>The Listeners</td>\n",
       "      <td>0812550390</td>\n",
       "      <td>Tor Books</td>\n",
       "      <td>Horror|Young Adult|Fiction|Science Fiction|Fan...</td>\n",
       "      <td>0.720531</td>\n",
       "    </tr>\n",
       "    <tr>\n",
       "      <th>1496</th>\n",
       "      <td>40995</td>\n",
       "      <td>Sword &amp; Citadel (The Book of the New Sun #3-4)</td>\n",
       "      <td>0312890184</td>\n",
       "      <td>Orb Books</td>\n",
       "      <td>Fantasy|Science Fiction|Fiction|Science Fictio...</td>\n",
       "      <td>0.584766</td>\n",
       "    </tr>\n",
       "    <tr>\n",
       "      <th>2051</th>\n",
       "      <td>52785</td>\n",
       "      <td>To Jerusalem and Back</td>\n",
       "      <td>0141180757</td>\n",
       "      <td>Penguin Classics</td>\n",
       "      <td>Travel|Nonfiction|History|Literature|Jewish|Cu...</td>\n",
       "      <td>0.540066</td>\n",
       "    </tr>\n",
       "    <tr>\n",
       "      <th>5200</th>\n",
       "      <td>136993</td>\n",
       "      <td>Whispers: The Voices of Paranoia</td>\n",
       "      <td>0684802856</td>\n",
       "      <td>Simon &amp; Schuster</td>\n",
       "      <td>Psychology|Nonfiction|Health|Mental Health|Sci...</td>\n",
       "      <td>0.538758</td>\n",
       "    </tr>\n",
       "    <tr>\n",
       "      <th>3452</th>\n",
       "      <td>87247</td>\n",
       "      <td>Der Steppenwolf</td>\n",
       "      <td>3518366750</td>\n",
       "      <td>Suhrkamp</td>\n",
       "      <td>Fiction|Classics|Philosophy|European Literatur...</td>\n",
       "      <td>0.433520</td>\n",
       "    </tr>\n",
       "    <tr>\n",
       "      <th>1433</th>\n",
       "      <td>39305</td>\n",
       "      <td>Minion (Vampire Huntress, #1)</td>\n",
       "      <td>0312987013</td>\n",
       "      <td>St. Martin's Paperback</td>\n",
       "      <td>Paranormal|Vampires|Fantasy|Urban Fantasy|Fant...</td>\n",
       "      <td>0.413498</td>\n",
       "    </tr>\n",
       "    <tr>\n",
       "      <th>6139</th>\n",
       "      <td>178930</td>\n",
       "      <td>The Overworked American: The Unexpected Declin...</td>\n",
       "      <td>046505434X</td>\n",
       "      <td>Basic Books</td>\n",
       "      <td>Nonfiction|Sociology|Economics|History|Politic...</td>\n",
       "      <td>0.390127</td>\n",
       "    </tr>\n",
       "  </tbody>\n",
       "</table>\n",
       "</div>"
      ],
      "text/plain": [
       "          Id                                               Name        ISBN  \\\n",
       "5424  147802         Black Water 2: More Tales of the Fantastic  0517575590   \n",
       "447    12335  Savage Beauty: The Life of Edna St. Vincent Mi...  0375760814   \n",
       "5311  141828                                  L'Écume des jours  2253140872   \n",
       "5230  138009                                      The Listeners  0812550390   \n",
       "1496   40995     Sword & Citadel (The Book of the New Sun #3-4)  0312890184   \n",
       "2051   52785                              To Jerusalem and Back  0141180757   \n",
       "5200  136993                   Whispers: The Voices of Paranoia  0684802856   \n",
       "3452   87247                                    Der Steppenwolf  3518366750   \n",
       "1433   39305                      Minion (Vampire Huntress, #1)  0312987013   \n",
       "6139  178930  The Overworked American: The Unexpected Declin...  046505434X   \n",
       "\n",
       "                 Publisher_x  \\\n",
       "5424      Three Rivers Press   \n",
       "447       Random House Trade   \n",
       "5311       Le Livre de Poche   \n",
       "5230               Tor Books   \n",
       "1496               Orb Books   \n",
       "2051        Penguin Classics   \n",
       "5200        Simon & Schuster   \n",
       "3452                Suhrkamp   \n",
       "1433  St. Martin's Paperback   \n",
       "6139             Basic Books   \n",
       "\n",
       "                                                  Genre  CF_item_pred_rating  \n",
       "5424  Short Stories|Fantasy|Fiction|Horror|Anthologi...             2.013268  \n",
       "447   Biography|Nonfiction|Poetry|Biography Memoir|H...             0.793342  \n",
       "5311  Fiction|Cultural|France|Classics|European Lite...             0.784068  \n",
       "5230  Horror|Young Adult|Fiction|Science Fiction|Fan...             0.720531  \n",
       "1496  Fantasy|Science Fiction|Fiction|Science Fictio...             0.584766  \n",
       "2051  Travel|Nonfiction|History|Literature|Jewish|Cu...             0.540066  \n",
       "5200  Psychology|Nonfiction|Health|Mental Health|Sci...             0.538758  \n",
       "3452  Fiction|Classics|Philosophy|European Literatur...             0.433520  \n",
       "1433  Paranormal|Vampires|Fantasy|Urban Fantasy|Fant...             0.413498  \n",
       "6139  Nonfiction|Sociology|Economics|History|Politic...             0.390127  "
      ]
     },
     "execution_count": 41,
     "metadata": {},
     "output_type": "execute_result"
    }
   ],
   "source": [
    "# item 2\n",
    "print('Collaborative Filtering RS (item-based)')\n",
    "user_full, recommendations = recommend_books(item_pred_df, 1, Filtered_books, rating_f1, 10, 'CF_item_pred_rating')\n",
    "recommendations"
   ]
  },
  {
   "cell_type": "code",
   "execution_count": 42,
   "metadata": {},
   "outputs": [
    {
     "data": {
      "text/html": [
       "<div>\n",
       "<style scoped>\n",
       "    .dataframe tbody tr th:only-of-type {\n",
       "        vertical-align: middle;\n",
       "    }\n",
       "\n",
       "    .dataframe tbody tr th {\n",
       "        vertical-align: top;\n",
       "    }\n",
       "\n",
       "    .dataframe thead th {\n",
       "        text-align: right;\n",
       "    }\n",
       "</style>\n",
       "<table border=\"1\" class=\"dataframe\">\n",
       "  <thead>\n",
       "    <tr style=\"text-align: right;\">\n",
       "      <th></th>\n",
       "      <th>Id</th>\n",
       "      <th>Name</th>\n",
       "      <th>ISBN</th>\n",
       "      <th>Publisher_x</th>\n",
       "      <th>Genre</th>\n",
       "    </tr>\n",
       "  </thead>\n",
       "  <tbody>\n",
       "    <tr>\n",
       "      <th>1</th>\n",
       "      <td>77649</td>\n",
       "      <td>The Bonesetter's Daughter</td>\n",
       "      <td>0399146431</td>\n",
       "      <td>G.P. Putnam's</td>\n",
       "      <td>Fiction|Historical|Historical Fiction|Cultural...</td>\n",
       "    </tr>\n",
       "    <tr>\n",
       "      <th>0</th>\n",
       "      <td>48899</td>\n",
       "      <td>Mary Anne and the Silent Witness (Baby-Sitters...</td>\n",
       "      <td>0590228684</td>\n",
       "      <td>Scholastic</td>\n",
       "      <td>Mystery|Childrens|Middle Grade|Fiction|Childre...</td>\n",
       "    </tr>\n",
       "    <tr>\n",
       "      <th>2</th>\n",
       "      <td>5191</td>\n",
       "      <td>The Pilot's Wife</td>\n",
       "      <td>0316601950</td>\n",
       "      <td>Back Bay Books</td>\n",
       "      <td>Fiction|Womens Fiction|Chick Lit|Mystery|Conte...</td>\n",
       "    </tr>\n",
       "    <tr>\n",
       "      <th>3</th>\n",
       "      <td>77753</td>\n",
       "      <td>Little Altars Everywhere</td>\n",
       "      <td>0060976845</td>\n",
       "      <td>Harper Perennial</td>\n",
       "      <td>Fiction|Womens Fiction|Chick Lit|American|Sout...</td>\n",
       "    </tr>\n",
       "    <tr>\n",
       "      <th>4</th>\n",
       "      <td>131157</td>\n",
       "      <td>Jacqueline Susann's Shadow Of The Dolls</td>\n",
       "      <td>0609605852</td>\n",
       "      <td>Crown</td>\n",
       "      <td>Fiction|Womens Fiction|Chick Lit|Romance|Conte...</td>\n",
       "    </tr>\n",
       "    <tr>\n",
       "      <th>5</th>\n",
       "      <td>1107332</td>\n",
       "      <td>A Cup of Comfort for Women: Stories that celeb...</td>\n",
       "      <td>158062748X</td>\n",
       "      <td>Cup of Comfort</td>\n",
       "      <td>Nonfiction|Inspirational|Short Stories|</td>\n",
       "    </tr>\n",
       "  </tbody>\n",
       "</table>\n",
       "</div>"
      ],
      "text/plain": [
       "        Id                                               Name        ISBN  \\\n",
       "1    77649                          The Bonesetter's Daughter  0399146431   \n",
       "0    48899  Mary Anne and the Silent Witness (Baby-Sitters...  0590228684   \n",
       "2     5191                                   The Pilot's Wife  0316601950   \n",
       "3    77753                           Little Altars Everywhere  0060976845   \n",
       "4   131157            Jacqueline Susann's Shadow Of The Dolls  0609605852   \n",
       "5  1107332  A Cup of Comfort for Women: Stories that celeb...  158062748X   \n",
       "\n",
       "        Publisher_x                                              Genre  \n",
       "1     G.P. Putnam's  Fiction|Historical|Historical Fiction|Cultural...  \n",
       "0        Scholastic  Mystery|Childrens|Middle Grade|Fiction|Childre...  \n",
       "2    Back Bay Books  Fiction|Womens Fiction|Chick Lit|Mystery|Conte...  \n",
       "3  Harper Perennial  Fiction|Womens Fiction|Chick Lit|American|Sout...  \n",
       "4             Crown  Fiction|Womens Fiction|Chick Lit|Romance|Conte...  \n",
       "5    Cup of Comfort            Nonfiction|Inspirational|Short Stories|  "
      ]
     },
     "execution_count": 42,
     "metadata": {},
     "output_type": "execute_result"
    }
   ],
   "source": [
    "user_full"
   ]
  },
  {
   "cell_type": "markdown",
   "metadata": {},
   "source": [
    "# content base RS"
   ]
  },
  {
   "cell_type": "markdown",
   "metadata": {},
   "source": [
    "## TF-IDF"
   ]
  },
  {
   "cell_type": "code",
   "execution_count": 43,
   "metadata": {},
   "outputs": [
    {
     "name": "stderr",
     "output_type": "stream",
     "text": [
      "C:\\Users\\Austin\\Anaconda3\\lib\\site-packages\\ipykernel_launcher.py:8: FutureWarning: The default value of regex will change from True to False in a future version. In addition, single character regular expressions will *not* be treated as literal strings when regex=True.\n",
      "  \n"
     ]
    },
    {
     "data": {
      "text/html": [
       "<div>\n",
       "<style scoped>\n",
       "    .dataframe tbody tr th:only-of-type {\n",
       "        vertical-align: middle;\n",
       "    }\n",
       "\n",
       "    .dataframe tbody tr th {\n",
       "        vertical-align: top;\n",
       "    }\n",
       "\n",
       "    .dataframe thead th {\n",
       "        text-align: right;\n",
       "    }\n",
       "</style>\n",
       "<table border=\"1\" class=\"dataframe\">\n",
       "  <thead>\n",
       "    <tr style=\"text-align: right;\">\n",
       "      <th></th>\n",
       "      <th>Name</th>\n",
       "      <th>ISBN</th>\n",
       "      <th>Genre</th>\n",
       "    </tr>\n",
       "  </thead>\n",
       "  <tbody>\n",
       "    <tr>\n",
       "      <th>0</th>\n",
       "      <td>Harry Potter and the Order of the Phoenix (Har...</td>\n",
       "      <td>0439358078</td>\n",
       "      <td>Fantasy Young-Adult Fiction Fantasy Magic Chil...</td>\n",
       "    </tr>\n",
       "    <tr>\n",
       "      <th>1</th>\n",
       "      <td>Harry Potter and the Chamber of Secrets (Harry...</td>\n",
       "      <td>0439554896</td>\n",
       "      <td>Fantasy Fiction Young-Adult Fantasy Magic Chil...</td>\n",
       "    </tr>\n",
       "    <tr>\n",
       "      <th>3</th>\n",
       "      <td>The Ultimate Hitchhiker's Guide to the Galaxy ...</td>\n",
       "      <td>0345453743</td>\n",
       "      <td>Science-Fiction Fiction Humor Fantasy Classics...</td>\n",
       "    </tr>\n",
       "    <tr>\n",
       "      <th>5</th>\n",
       "      <td>A Short History of Nearly Everything</td>\n",
       "      <td>076790818X</td>\n",
       "      <td>Nonfiction Science History Audiobook Humor Sci...</td>\n",
       "    </tr>\n",
       "    <tr>\n",
       "      <th>7</th>\n",
       "      <td>In a Sunburned Country</td>\n",
       "      <td>0767903862</td>\n",
       "      <td>Travel Nonfiction Humor Cultural Australia Aut...</td>\n",
       "    </tr>\n",
       "  </tbody>\n",
       "</table>\n",
       "</div>"
      ],
      "text/plain": [
       "                                                Name        ISBN  \\\n",
       "0  Harry Potter and the Order of the Phoenix (Har...  0439358078   \n",
       "1  Harry Potter and the Chamber of Secrets (Harry...  0439554896   \n",
       "3  The Ultimate Hitchhiker's Guide to the Galaxy ...  0345453743   \n",
       "5               A Short History of Nearly Everything  076790818X   \n",
       "7                             In a Sunburned Country  0767903862   \n",
       "\n",
       "                                               Genre  \n",
       "0  Fantasy Young-Adult Fiction Fantasy Magic Chil...  \n",
       "1  Fantasy Fiction Young-Adult Fantasy Magic Chil...  \n",
       "3  Science-Fiction Fiction Humor Fantasy Classics...  \n",
       "5  Nonfiction Science History Audiobook Humor Sci...  \n",
       "7  Travel Nonfiction Humor Cultural Australia Aut...  "
      ]
     },
     "execution_count": 43,
     "metadata": {},
     "output_type": "execute_result"
    }
   ],
   "source": [
    "# Create a merge dataframe of book name, genres\n",
    "# this indicates the content information of the books\n",
    "book_rating_list = rating_f.ISBN.unique().tolist()\n",
    "Filtered_books = books[books.ISBN.isin(book_rating_list)]\n",
    "\n",
    "merge = Filtered_books.loc[:,[\"Name\",\"ISBN\",\"Genre\"]]\n",
    "merge.Genre = merge.Genre.str.replace(\" \",\"-\")\n",
    "merge.Genre = merge.Genre.str.replace(\"|\",\" \")\n",
    "merge.head()"
   ]
  },
  {
   "cell_type": "code",
   "execution_count": 44,
   "metadata": {},
   "outputs": [
    {
     "data": {
      "text/html": [
       "<div>\n",
       "<style scoped>\n",
       "    .dataframe tbody tr th:only-of-type {\n",
       "        vertical-align: middle;\n",
       "    }\n",
       "\n",
       "    .dataframe tbody tr th {\n",
       "        vertical-align: top;\n",
       "    }\n",
       "\n",
       "    .dataframe thead th {\n",
       "        text-align: right;\n",
       "    }\n",
       "</style>\n",
       "<table border=\"1\" class=\"dataframe\">\n",
       "  <thead>\n",
       "    <tr style=\"text-align: right;\">\n",
       "      <th></th>\n",
       "      <th>Name</th>\n",
       "      <th>ISBN</th>\n",
       "      <th>Genre</th>\n",
       "    </tr>\n",
       "  </thead>\n",
       "  <tbody>\n",
       "  </tbody>\n",
       "</table>\n",
       "</div>"
      ],
      "text/plain": [
       "Empty DataFrame\n",
       "Columns: [Name, ISBN, Genre]\n",
       "Index: []"
      ]
     },
     "execution_count": 44,
     "metadata": {},
     "output_type": "execute_result"
    }
   ],
   "source": [
    "merge[merge.isna().any(axis=1)]"
   ]
  },
  {
   "cell_type": "code",
   "execution_count": 45,
   "metadata": {},
   "outputs": [
    {
     "data": {
      "text/html": [
       "<div>\n",
       "<style scoped>\n",
       "    .dataframe tbody tr th:only-of-type {\n",
       "        vertical-align: middle;\n",
       "    }\n",
       "\n",
       "    .dataframe tbody tr th {\n",
       "        vertical-align: top;\n",
       "    }\n",
       "\n",
       "    .dataframe thead th {\n",
       "        text-align: right;\n",
       "    }\n",
       "</style>\n",
       "<table border=\"1\" class=\"dataframe\">\n",
       "  <thead>\n",
       "    <tr style=\"text-align: right;\">\n",
       "      <th></th>\n",
       "      <th>Name</th>\n",
       "      <th>ISBN</th>\n",
       "      <th>Genre</th>\n",
       "    </tr>\n",
       "  </thead>\n",
       "  <tbody>\n",
       "    <tr>\n",
       "      <th>0</th>\n",
       "      <td>Harry Potter and the Order of the Phoenix (Har...</td>\n",
       "      <td>0439358078</td>\n",
       "      <td>Fantasy Young-Adult Fiction Fantasy Magic Chil...</td>\n",
       "    </tr>\n",
       "    <tr>\n",
       "      <th>1</th>\n",
       "      <td>Harry Potter and the Chamber of Secrets (Harry...</td>\n",
       "      <td>0439554896</td>\n",
       "      <td>Fantasy Fiction Young-Adult Fantasy Magic Chil...</td>\n",
       "    </tr>\n",
       "    <tr>\n",
       "      <th>3</th>\n",
       "      <td>The Ultimate Hitchhiker's Guide to the Galaxy ...</td>\n",
       "      <td>0345453743</td>\n",
       "      <td>Science-Fiction Fiction Humor Fantasy Classics...</td>\n",
       "    </tr>\n",
       "    <tr>\n",
       "      <th>5</th>\n",
       "      <td>A Short History of Nearly Everything</td>\n",
       "      <td>076790818X</td>\n",
       "      <td>Nonfiction Science History Audiobook Humor Sci...</td>\n",
       "    </tr>\n",
       "    <tr>\n",
       "      <th>7</th>\n",
       "      <td>In a Sunburned Country</td>\n",
       "      <td>0767903862</td>\n",
       "      <td>Travel Nonfiction Humor Cultural Australia Aut...</td>\n",
       "    </tr>\n",
       "  </tbody>\n",
       "</table>\n",
       "</div>"
      ],
      "text/plain": [
       "                                                Name        ISBN  \\\n",
       "0  Harry Potter and the Order of the Phoenix (Har...  0439358078   \n",
       "1  Harry Potter and the Chamber of Secrets (Harry...  0439554896   \n",
       "3  The Ultimate Hitchhiker's Guide to the Galaxy ...  0345453743   \n",
       "5               A Short History of Nearly Everything  076790818X   \n",
       "7                             In a Sunburned Country  0767903862   \n",
       "\n",
       "                                               Genre  \n",
       "0  Fantasy Young-Adult Fiction Fantasy Magic Chil...  \n",
       "1  Fantasy Fiction Young-Adult Fantasy Magic Chil...  \n",
       "3  Science-Fiction Fiction Humor Fantasy Classics...  \n",
       "5  Nonfiction Science History Audiobook Humor Sci...  \n",
       "7  Travel Nonfiction Humor Cultural Australia Aut...  "
      ]
     },
     "execution_count": 45,
     "metadata": {},
     "output_type": "execute_result"
    }
   ],
   "source": [
    "# we already have all we need \n",
    "Final = merge.copy()\n",
    "Final.head()"
   ]
  },
  {
   "cell_type": "code",
   "execution_count": 46,
   "metadata": {},
   "outputs": [],
   "source": [
    "Final.columns = [\"Name\",\"ISBN\",\"metadata\"]"
   ]
  },
  {
   "cell_type": "code",
   "execution_count": 47,
   "metadata": {},
   "outputs": [
    {
     "name": "stdout",
     "output_type": "stream",
     "text": [
      "(7462, 647)\n"
     ]
    }
   ],
   "source": [
    "tfidf = TfidfVectorizer(stop_words='english')\n",
    "tfidf_matrix = tfidf.fit_transform(Final['metadata'])\n",
    "tfidf_df = pd.DataFrame(tfidf_matrix.toarray(), index=Final.index.tolist())\n",
    "# 7462 books, using 647 terms to describe\n",
    "print(tfidf_df.shape)"
   ]
  },
  {
   "cell_type": "markdown",
   "metadata": {},
   "source": [
    "## BERT embedding"
   ]
  },
  {
   "cell_type": "code",
   "execution_count": 48,
   "metadata": {
    "scrolled": true
   },
   "outputs": [
    {
     "name": "stderr",
     "output_type": "stream",
     "text": [
      "C:\\Users\\Austin\\Anaconda3\\lib\\site-packages\\requests\\__init__.py:91: RequestsDependencyWarning: urllib3 (1.26.7) or chardet (3.0.4) doesn't match a supported version!\n",
      "  RequestsDependencyWarning)\n"
     ]
    },
    {
     "ename": "ImportError",
     "evalue": "cannot import name 'dense_features' from 'tensorflow.python.feature_column' (C:\\Users\\Austin\\Anaconda3\\lib\\site-packages\\tensorflow\\python\\feature_column\\__init__.py)",
     "output_type": "error",
     "traceback": [
      "\u001b[1;31m---------------------------------------------------------------------------\u001b[0m",
      "\u001b[1;31mImportError\u001b[0m                               Traceback (most recent call last)",
      "\u001b[1;32m<ipython-input-48-5543196c9470>\u001b[0m in \u001b[0;36m<module>\u001b[1;34m\u001b[0m\n\u001b[0;32m      2\u001b[0m \u001b[1;31m# !pip install --upgrade tensorflow_hub\u001b[0m\u001b[1;33m\u001b[0m\u001b[1;33m\u001b[0m\u001b[1;33m\u001b[0m\u001b[0m\n\u001b[0;32m      3\u001b[0m \u001b[1;31m# !pip install tensorflow-text\u001b[0m\u001b[1;33m\u001b[0m\u001b[1;33m\u001b[0m\u001b[1;33m\u001b[0m\u001b[0m\n\u001b[1;32m----> 4\u001b[1;33m \u001b[1;32mimport\u001b[0m \u001b[0mtensorflow_hub\u001b[0m \u001b[1;32mas\u001b[0m \u001b[0mhub\u001b[0m\u001b[1;33m\u001b[0m\u001b[1;33m\u001b[0m\u001b[0m\n\u001b[0m\u001b[0;32m      5\u001b[0m \u001b[1;32mimport\u001b[0m \u001b[0mtensorflow_text\u001b[0m\u001b[1;33m\u001b[0m\u001b[1;33m\u001b[0m\u001b[0m\n",
      "\u001b[1;32m~\\Anaconda3\\lib\\site-packages\\tensorflow_hub\\__init__.py\u001b[0m in \u001b[0;36m<module>\u001b[1;34m\u001b[0m\n\u001b[0;32m     86\u001b[0m \u001b[1;33m\u001b[0m\u001b[0m\n\u001b[0;32m     87\u001b[0m \u001b[1;33m\u001b[0m\u001b[0m\n\u001b[1;32m---> 88\u001b[1;33m \u001b[1;32mfrom\u001b[0m \u001b[0mtensorflow_hub\u001b[0m\u001b[1;33m.\u001b[0m\u001b[0mestimator\u001b[0m \u001b[1;32mimport\u001b[0m \u001b[0mLatestModuleExporter\u001b[0m\u001b[1;33m\u001b[0m\u001b[1;33m\u001b[0m\u001b[0m\n\u001b[0m\u001b[0;32m     89\u001b[0m \u001b[1;32mfrom\u001b[0m \u001b[0mtensorflow_hub\u001b[0m\u001b[1;33m.\u001b[0m\u001b[0mestimator\u001b[0m \u001b[1;32mimport\u001b[0m \u001b[0mregister_module_for_export\u001b[0m\u001b[1;33m\u001b[0m\u001b[1;33m\u001b[0m\u001b[0m\n\u001b[0;32m     90\u001b[0m \u001b[1;32mfrom\u001b[0m \u001b[0mtensorflow_hub\u001b[0m\u001b[1;33m.\u001b[0m\u001b[0mfeature_column\u001b[0m \u001b[1;32mimport\u001b[0m \u001b[0mimage_embedding_column\u001b[0m\u001b[1;33m\u001b[0m\u001b[1;33m\u001b[0m\u001b[0m\n",
      "\u001b[1;32m~\\Anaconda3\\lib\\site-packages\\tensorflow_hub\\estimator.py\u001b[0m in \u001b[0;36m<module>\u001b[1;34m\u001b[0m\n\u001b[0;32m     60\u001b[0m \u001b[1;33m\u001b[0m\u001b[0m\n\u001b[0;32m     61\u001b[0m \u001b[1;33m\u001b[0m\u001b[0m\n\u001b[1;32m---> 62\u001b[1;33m \u001b[1;32mclass\u001b[0m \u001b[0mLatestModuleExporter\u001b[0m\u001b[1;33m(\u001b[0m\u001b[0mtf\u001b[0m\u001b[1;33m.\u001b[0m\u001b[0mcompat\u001b[0m\u001b[1;33m.\u001b[0m\u001b[0mv1\u001b[0m\u001b[1;33m.\u001b[0m\u001b[0mestimator\u001b[0m\u001b[1;33m.\u001b[0m\u001b[0mExporter\u001b[0m\u001b[1;33m)\u001b[0m\u001b[1;33m:\u001b[0m\u001b[1;33m\u001b[0m\u001b[1;33m\u001b[0m\u001b[0m\n\u001b[0m\u001b[0;32m     63\u001b[0m   \"\"\"Regularly exports registered modules into timestamped directories.\n\u001b[0;32m     64\u001b[0m \u001b[1;33m\u001b[0m\u001b[0m\n",
      "\u001b[1;32m~\\Anaconda3\\lib\\site-packages\\tensorflow\\python\\util\\lazy_loader.py\u001b[0m in \u001b[0;36m__getattr__\u001b[1;34m(self, item)\u001b[0m\n\u001b[0;32m     56\u001b[0m \u001b[1;33m\u001b[0m\u001b[0m\n\u001b[0;32m     57\u001b[0m   \u001b[1;32mdef\u001b[0m \u001b[0m__getattr__\u001b[0m\u001b[1;33m(\u001b[0m\u001b[0mself\u001b[0m\u001b[1;33m,\u001b[0m \u001b[0mitem\u001b[0m\u001b[1;33m)\u001b[0m\u001b[1;33m:\u001b[0m\u001b[1;33m\u001b[0m\u001b[1;33m\u001b[0m\u001b[0m\n\u001b[1;32m---> 58\u001b[1;33m     \u001b[0mmodule\u001b[0m \u001b[1;33m=\u001b[0m \u001b[0mself\u001b[0m\u001b[1;33m.\u001b[0m\u001b[0m_load\u001b[0m\u001b[1;33m(\u001b[0m\u001b[1;33m)\u001b[0m\u001b[1;33m\u001b[0m\u001b[1;33m\u001b[0m\u001b[0m\n\u001b[0m\u001b[0;32m     59\u001b[0m     \u001b[1;32mreturn\u001b[0m \u001b[0mgetattr\u001b[0m\u001b[1;33m(\u001b[0m\u001b[0mmodule\u001b[0m\u001b[1;33m,\u001b[0m \u001b[0mitem\u001b[0m\u001b[1;33m)\u001b[0m\u001b[1;33m\u001b[0m\u001b[1;33m\u001b[0m\u001b[0m\n\u001b[0;32m     60\u001b[0m \u001b[1;33m\u001b[0m\u001b[0m\n",
      "\u001b[1;32m~\\Anaconda3\\lib\\site-packages\\tensorflow\\python\\util\\lazy_loader.py\u001b[0m in \u001b[0;36m_load\u001b[1;34m(self)\u001b[0m\n\u001b[0;32m     39\u001b[0m     \u001b[1;34m\"\"\"Load the module and insert it into the parent's globals.\"\"\"\u001b[0m\u001b[1;33m\u001b[0m\u001b[1;33m\u001b[0m\u001b[0m\n\u001b[0;32m     40\u001b[0m     \u001b[1;31m# Import the target module and insert it into the parent's namespace\u001b[0m\u001b[1;33m\u001b[0m\u001b[1;33m\u001b[0m\u001b[1;33m\u001b[0m\u001b[0m\n\u001b[1;32m---> 41\u001b[1;33m     \u001b[0mmodule\u001b[0m \u001b[1;33m=\u001b[0m \u001b[0mimportlib\u001b[0m\u001b[1;33m.\u001b[0m\u001b[0mimport_module\u001b[0m\u001b[1;33m(\u001b[0m\u001b[0mself\u001b[0m\u001b[1;33m.\u001b[0m\u001b[0m__name__\u001b[0m\u001b[1;33m)\u001b[0m\u001b[1;33m\u001b[0m\u001b[1;33m\u001b[0m\u001b[0m\n\u001b[0m\u001b[0;32m     42\u001b[0m     \u001b[0mself\u001b[0m\u001b[1;33m.\u001b[0m\u001b[0m_parent_module_globals\u001b[0m\u001b[1;33m[\u001b[0m\u001b[0mself\u001b[0m\u001b[1;33m.\u001b[0m\u001b[0m_local_name\u001b[0m\u001b[1;33m]\u001b[0m \u001b[1;33m=\u001b[0m \u001b[0mmodule\u001b[0m\u001b[1;33m\u001b[0m\u001b[1;33m\u001b[0m\u001b[0m\n\u001b[0;32m     43\u001b[0m \u001b[1;33m\u001b[0m\u001b[0m\n",
      "\u001b[1;32m~\\Anaconda3\\lib\\importlib\\__init__.py\u001b[0m in \u001b[0;36mimport_module\u001b[1;34m(name, package)\u001b[0m\n\u001b[0;32m    125\u001b[0m                 \u001b[1;32mbreak\u001b[0m\u001b[1;33m\u001b[0m\u001b[1;33m\u001b[0m\u001b[0m\n\u001b[0;32m    126\u001b[0m             \u001b[0mlevel\u001b[0m \u001b[1;33m+=\u001b[0m \u001b[1;36m1\u001b[0m\u001b[1;33m\u001b[0m\u001b[1;33m\u001b[0m\u001b[0m\n\u001b[1;32m--> 127\u001b[1;33m     \u001b[1;32mreturn\u001b[0m \u001b[0m_bootstrap\u001b[0m\u001b[1;33m.\u001b[0m\u001b[0m_gcd_import\u001b[0m\u001b[1;33m(\u001b[0m\u001b[0mname\u001b[0m\u001b[1;33m[\u001b[0m\u001b[0mlevel\u001b[0m\u001b[1;33m:\u001b[0m\u001b[1;33m]\u001b[0m\u001b[1;33m,\u001b[0m \u001b[0mpackage\u001b[0m\u001b[1;33m,\u001b[0m \u001b[0mlevel\u001b[0m\u001b[1;33m)\u001b[0m\u001b[1;33m\u001b[0m\u001b[1;33m\u001b[0m\u001b[0m\n\u001b[0m\u001b[0;32m    128\u001b[0m \u001b[1;33m\u001b[0m\u001b[0m\n\u001b[0;32m    129\u001b[0m \u001b[1;33m\u001b[0m\u001b[0m\n",
      "\u001b[1;32m~\\Anaconda3\\lib\\site-packages\\tensorflow_estimator\\__init__.py\u001b[0m in \u001b[0;36m<module>\u001b[1;34m\u001b[0m\n\u001b[0;32m      8\u001b[0m \u001b[1;32mimport\u001b[0m \u001b[0msys\u001b[0m \u001b[1;32mas\u001b[0m \u001b[0m_sys\u001b[0m\u001b[1;33m\u001b[0m\u001b[1;33m\u001b[0m\u001b[0m\n\u001b[0;32m      9\u001b[0m \u001b[1;33m\u001b[0m\u001b[0m\n\u001b[1;32m---> 10\u001b[1;33m \u001b[1;32mfrom\u001b[0m \u001b[0mtensorflow_estimator\u001b[0m\u001b[1;33m.\u001b[0m\u001b[0m_api\u001b[0m\u001b[1;33m.\u001b[0m\u001b[0mv1\u001b[0m \u001b[1;32mimport\u001b[0m \u001b[0mestimator\u001b[0m\u001b[1;33m\u001b[0m\u001b[1;33m\u001b[0m\u001b[0m\n\u001b[0m\u001b[0;32m     11\u001b[0m \u001b[1;33m\u001b[0m\u001b[0m\n\u001b[0;32m     12\u001b[0m \u001b[1;32mdel\u001b[0m \u001b[0m_print_function\u001b[0m\u001b[1;33m\u001b[0m\u001b[1;33m\u001b[0m\u001b[0m\n",
      "\u001b[1;32m~\\Anaconda3\\lib\\site-packages\\tensorflow_estimator\\_api\\v1\\estimator\\__init__.py\u001b[0m in \u001b[0;36m<module>\u001b[1;34m\u001b[0m\n\u001b[0;32m      8\u001b[0m \u001b[1;32mimport\u001b[0m \u001b[0msys\u001b[0m \u001b[1;32mas\u001b[0m \u001b[0m_sys\u001b[0m\u001b[1;33m\u001b[0m\u001b[1;33m\u001b[0m\u001b[0m\n\u001b[0;32m      9\u001b[0m \u001b[1;33m\u001b[0m\u001b[0m\n\u001b[1;32m---> 10\u001b[1;33m \u001b[1;32mfrom\u001b[0m \u001b[0mtensorflow_estimator\u001b[0m\u001b[1;33m.\u001b[0m\u001b[0m_api\u001b[0m\u001b[1;33m.\u001b[0m\u001b[0mv1\u001b[0m\u001b[1;33m.\u001b[0m\u001b[0mestimator\u001b[0m \u001b[1;32mimport\u001b[0m \u001b[0mexperimental\u001b[0m\u001b[1;33m\u001b[0m\u001b[1;33m\u001b[0m\u001b[0m\n\u001b[0m\u001b[0;32m     11\u001b[0m \u001b[1;32mfrom\u001b[0m \u001b[0mtensorflow_estimator\u001b[0m\u001b[1;33m.\u001b[0m\u001b[0m_api\u001b[0m\u001b[1;33m.\u001b[0m\u001b[0mv1\u001b[0m\u001b[1;33m.\u001b[0m\u001b[0mestimator\u001b[0m \u001b[1;32mimport\u001b[0m \u001b[0mexport\u001b[0m\u001b[1;33m\u001b[0m\u001b[1;33m\u001b[0m\u001b[0m\n\u001b[0;32m     12\u001b[0m \u001b[1;32mfrom\u001b[0m \u001b[0mtensorflow_estimator\u001b[0m\u001b[1;33m.\u001b[0m\u001b[0m_api\u001b[0m\u001b[1;33m.\u001b[0m\u001b[0mv1\u001b[0m\u001b[1;33m.\u001b[0m\u001b[0mestimator\u001b[0m \u001b[1;32mimport\u001b[0m \u001b[0minputs\u001b[0m\u001b[1;33m\u001b[0m\u001b[1;33m\u001b[0m\u001b[0m\n",
      "\u001b[1;32m~\\Anaconda3\\lib\\site-packages\\tensorflow_estimator\\_api\\v1\\estimator\\experimental\\__init__.py\u001b[0m in \u001b[0;36m<module>\u001b[1;34m\u001b[0m\n\u001b[0;32m      8\u001b[0m \u001b[1;32mimport\u001b[0m \u001b[0msys\u001b[0m \u001b[1;32mas\u001b[0m \u001b[0m_sys\u001b[0m\u001b[1;33m\u001b[0m\u001b[1;33m\u001b[0m\u001b[0m\n\u001b[0;32m      9\u001b[0m \u001b[1;33m\u001b[0m\u001b[0m\n\u001b[1;32m---> 10\u001b[1;33m \u001b[1;32mfrom\u001b[0m \u001b[0mtensorflow_estimator\u001b[0m\u001b[1;33m.\u001b[0m\u001b[0mpython\u001b[0m\u001b[1;33m.\u001b[0m\u001b[0mestimator\u001b[0m\u001b[1;33m.\u001b[0m\u001b[0mcanned\u001b[0m\u001b[1;33m.\u001b[0m\u001b[0mdnn\u001b[0m \u001b[1;32mimport\u001b[0m \u001b[0mdnn_logit_fn_builder\u001b[0m\u001b[1;33m\u001b[0m\u001b[1;33m\u001b[0m\u001b[0m\n\u001b[0m\u001b[0;32m     11\u001b[0m \u001b[1;32mfrom\u001b[0m \u001b[0mtensorflow_estimator\u001b[0m\u001b[1;33m.\u001b[0m\u001b[0mpython\u001b[0m\u001b[1;33m.\u001b[0m\u001b[0mestimator\u001b[0m\u001b[1;33m.\u001b[0m\u001b[0mcanned\u001b[0m\u001b[1;33m.\u001b[0m\u001b[0mkmeans\u001b[0m \u001b[1;32mimport\u001b[0m \u001b[0mKMeansClustering\u001b[0m \u001b[1;32mas\u001b[0m \u001b[0mKMeans\u001b[0m\u001b[1;33m\u001b[0m\u001b[1;33m\u001b[0m\u001b[0m\n\u001b[0;32m     12\u001b[0m \u001b[1;32mfrom\u001b[0m \u001b[0mtensorflow_estimator\u001b[0m\u001b[1;33m.\u001b[0m\u001b[0mpython\u001b[0m\u001b[1;33m.\u001b[0m\u001b[0mestimator\u001b[0m\u001b[1;33m.\u001b[0m\u001b[0mcanned\u001b[0m\u001b[1;33m.\u001b[0m\u001b[0mlinear\u001b[0m \u001b[1;32mimport\u001b[0m \u001b[0mLinearSDCA\u001b[0m\u001b[1;33m\u001b[0m\u001b[1;33m\u001b[0m\u001b[0m\n",
      "\u001b[1;32m~\\Anaconda3\\lib\\site-packages\\tensorflow_estimator\\python\\estimator\\canned\\dnn.py\u001b[0m in \u001b[0;36m<module>\u001b[1;34m\u001b[0m\n\u001b[0;32m     21\u001b[0m \u001b[1;32mimport\u001b[0m \u001b[0msix\u001b[0m\u001b[1;33m\u001b[0m\u001b[1;33m\u001b[0m\u001b[0m\n\u001b[0;32m     22\u001b[0m \u001b[1;33m\u001b[0m\u001b[0m\n\u001b[1;32m---> 23\u001b[1;33m \u001b[1;32mfrom\u001b[0m \u001b[0mtensorflow\u001b[0m\u001b[1;33m.\u001b[0m\u001b[0mpython\u001b[0m\u001b[1;33m.\u001b[0m\u001b[0mfeature_column\u001b[0m \u001b[1;32mimport\u001b[0m \u001b[0mdense_features\u001b[0m\u001b[1;33m\u001b[0m\u001b[1;33m\u001b[0m\u001b[0m\n\u001b[0m\u001b[0;32m     24\u001b[0m \u001b[1;32mfrom\u001b[0m \u001b[0mtensorflow\u001b[0m\u001b[1;33m.\u001b[0m\u001b[0mpython\u001b[0m\u001b[1;33m.\u001b[0m\u001b[0mfeature_column\u001b[0m \u001b[1;32mimport\u001b[0m \u001b[0mdense_features_v2\u001b[0m\u001b[1;33m\u001b[0m\u001b[1;33m\u001b[0m\u001b[0m\n\u001b[0;32m     25\u001b[0m \u001b[1;32mfrom\u001b[0m \u001b[0mtensorflow\u001b[0m\u001b[1;33m.\u001b[0m\u001b[0mpython\u001b[0m\u001b[1;33m.\u001b[0m\u001b[0mfeature_column\u001b[0m \u001b[1;32mimport\u001b[0m \u001b[0mfeature_column\u001b[0m\u001b[1;33m\u001b[0m\u001b[1;33m\u001b[0m\u001b[0m\n",
      "\u001b[1;31mImportError\u001b[0m: cannot import name 'dense_features' from 'tensorflow.python.feature_column' (C:\\Users\\Austin\\Anaconda3\\lib\\site-packages\\tensorflow\\python\\feature_column\\__init__.py)"
     ]
    }
   ],
   "source": [
    "# there's lots of dependency. I recommend to do these task on colab\n",
    "# !pip install --upgrade tensorflow\n",
    "# !pip install --upgrade tensorflow_hub\n",
    "# !pip install tensorflow-text\n",
    "import tensorflow_hub as hub\n",
    "import tensorflow_text"
   ]
  },
  {
   "cell_type": "code",
   "execution_count": null,
   "metadata": {},
   "outputs": [],
   "source": []
  },
  {
   "cell_type": "code",
   "execution_count": 50,
   "metadata": {},
   "outputs": [
    {
     "ename": "NotFoundError",
     "evalue": "Op type not registered 'CaseFoldUTF8' in binary running on AUSTINNOTEBOOK. Make sure the Op and Kernel are registered in the binary running in this process. Note that if you are loading a saved graph which used ops from tf.contrib, accessing (e.g.) `tf.contrib.resampler` should be done before importing the graph, as contrib ops are lazily registered when the module is first accessed.",
     "output_type": "error",
     "traceback": [
      "\u001b[1;31m---------------------------------------------------------------------------\u001b[0m",
      "\u001b[1;31mKeyError\u001b[0m                                  Traceback (most recent call last)",
      "\u001b[1;32m~\\Anaconda3\\lib\\site-packages\\tensorflow_core\\python\\framework\\ops.py\u001b[0m in \u001b[0;36m_get_op_def\u001b[1;34m(self, type)\u001b[0m\n\u001b[0;32m   3707\u001b[0m     \u001b[1;32mtry\u001b[0m\u001b[1;33m:\u001b[0m\u001b[1;33m\u001b[0m\u001b[1;33m\u001b[0m\u001b[0m\n\u001b[1;32m-> 3708\u001b[1;33m       \u001b[1;32mreturn\u001b[0m \u001b[0mself\u001b[0m\u001b[1;33m.\u001b[0m\u001b[0m_op_def_cache\u001b[0m\u001b[1;33m[\u001b[0m\u001b[0mtype\u001b[0m\u001b[1;33m]\u001b[0m\u001b[1;33m\u001b[0m\u001b[1;33m\u001b[0m\u001b[0m\n\u001b[0m\u001b[0;32m   3709\u001b[0m     \u001b[1;32mexcept\u001b[0m \u001b[0mKeyError\u001b[0m\u001b[1;33m:\u001b[0m\u001b[1;33m\u001b[0m\u001b[1;33m\u001b[0m\u001b[0m\n",
      "\u001b[1;31mKeyError\u001b[0m: 'CaseFoldUTF8'",
      "\nDuring handling of the above exception, another exception occurred:\n",
      "\u001b[1;31mNotFoundError\u001b[0m                             Traceback (most recent call last)",
      "\u001b[1;32m<ipython-input-50-3126e4584439>\u001b[0m in \u001b[0;36m<module>\u001b[1;34m\u001b[0m\n\u001b[1;32m----> 1\u001b[1;33m \u001b[0mpreprocessor\u001b[0m \u001b[1;33m=\u001b[0m \u001b[0mhub\u001b[0m\u001b[1;33m.\u001b[0m\u001b[0mKerasLayer\u001b[0m\u001b[1;33m(\u001b[0m\u001b[1;34m\"https://tfhub.dev/tensorflow/bert_en_uncased_preprocess/3\"\u001b[0m\u001b[1;33m)\u001b[0m\u001b[1;33m\u001b[0m\u001b[1;33m\u001b[0m\u001b[0m\n\u001b[0m\u001b[0;32m      2\u001b[0m \u001b[0mencoder\u001b[0m \u001b[1;33m=\u001b[0m \u001b[0mhub\u001b[0m\u001b[1;33m.\u001b[0m\u001b[0mKerasLayer\u001b[0m\u001b[1;33m(\u001b[0m\u001b[1;34m\"https://tfhub.dev/tensorflow/small_bert/bert_en_uncased_L-2_H-128_A-2/1\"\u001b[0m\u001b[1;33m,\u001b[0m \u001b[0mtrainable\u001b[0m\u001b[1;33m=\u001b[0m\u001b[1;32mTrue\u001b[0m\u001b[1;33m)\u001b[0m\u001b[1;33m\u001b[0m\u001b[1;33m\u001b[0m\u001b[0m\n\u001b[0;32m      3\u001b[0m \u001b[1;33m\u001b[0m\u001b[0m\n\u001b[0;32m      4\u001b[0m \u001b[1;32mdef\u001b[0m \u001b[0mget_bert_embeddings\u001b[0m\u001b[1;33m(\u001b[0m\u001b[0mtext\u001b[0m\u001b[1;33m,\u001b[0m \u001b[0mpreprocessor\u001b[0m\u001b[1;33m,\u001b[0m \u001b[0mencoder\u001b[0m\u001b[1;33m)\u001b[0m\u001b[1;33m:\u001b[0m\u001b[1;33m\u001b[0m\u001b[1;33m\u001b[0m\u001b[0m\n\u001b[0;32m      5\u001b[0m \u001b[1;33m\u001b[0m\u001b[0m\n",
      "\u001b[1;32m~\\Anaconda3\\lib\\site-packages\\tensorflow_hub\\keras_layer.py\u001b[0m in \u001b[0;36m__init__\u001b[1;34m(self, handle, trainable, arguments, _sentinel, tags, signature, signature_outputs_as_dict, output_key, output_shape, load_options, **kwargs)\u001b[0m\n\u001b[0;32m    151\u001b[0m \u001b[1;33m\u001b[0m\u001b[0m\n\u001b[0;32m    152\u001b[0m     \u001b[0mself\u001b[0m\u001b[1;33m.\u001b[0m\u001b[0m_load_options\u001b[0m \u001b[1;33m=\u001b[0m \u001b[0mload_options\u001b[0m\u001b[1;33m\u001b[0m\u001b[1;33m\u001b[0m\u001b[0m\n\u001b[1;32m--> 153\u001b[1;33m     \u001b[0mself\u001b[0m\u001b[1;33m.\u001b[0m\u001b[0m_func\u001b[0m \u001b[1;33m=\u001b[0m \u001b[0mload_module\u001b[0m\u001b[1;33m(\u001b[0m\u001b[0mhandle\u001b[0m\u001b[1;33m,\u001b[0m \u001b[0mtags\u001b[0m\u001b[1;33m,\u001b[0m \u001b[0mself\u001b[0m\u001b[1;33m.\u001b[0m\u001b[0m_load_options\u001b[0m\u001b[1;33m)\u001b[0m\u001b[1;33m\u001b[0m\u001b[1;33m\u001b[0m\u001b[0m\n\u001b[0m\u001b[0;32m    154\u001b[0m     \u001b[0mself\u001b[0m\u001b[1;33m.\u001b[0m\u001b[0m_has_training_argument\u001b[0m \u001b[1;33m=\u001b[0m \u001b[0mfunc_has_training_argument\u001b[0m\u001b[1;33m(\u001b[0m\u001b[0mself\u001b[0m\u001b[1;33m.\u001b[0m\u001b[0m_func\u001b[0m\u001b[1;33m)\u001b[0m\u001b[1;33m\u001b[0m\u001b[1;33m\u001b[0m\u001b[0m\n\u001b[0;32m    155\u001b[0m     \u001b[0mself\u001b[0m\u001b[1;33m.\u001b[0m\u001b[0m_is_hub_module_v1\u001b[0m \u001b[1;33m=\u001b[0m \u001b[0mgetattr\u001b[0m\u001b[1;33m(\u001b[0m\u001b[0mself\u001b[0m\u001b[1;33m.\u001b[0m\u001b[0m_func\u001b[0m\u001b[1;33m,\u001b[0m \u001b[1;34m\"_is_hub_module_v1\"\u001b[0m\u001b[1;33m,\u001b[0m \u001b[1;32mFalse\u001b[0m\u001b[1;33m)\u001b[0m\u001b[1;33m\u001b[0m\u001b[1;33m\u001b[0m\u001b[0m\n",
      "\u001b[1;32m~\\Anaconda3\\lib\\site-packages\\tensorflow_hub\\keras_layer.py\u001b[0m in \u001b[0;36mload_module\u001b[1;34m(handle, tags, load_options)\u001b[0m\n\u001b[0;32m    447\u001b[0m       \u001b[1;32mexcept\u001b[0m \u001b[0mImportError\u001b[0m\u001b[1;33m:\u001b[0m  \u001b[1;31m# Expected before TF2.4.\u001b[0m\u001b[1;33m\u001b[0m\u001b[1;33m\u001b[0m\u001b[0m\n\u001b[0;32m    448\u001b[0m         \u001b[0mset_load_options\u001b[0m \u001b[1;33m=\u001b[0m \u001b[0mload_options\u001b[0m\u001b[1;33m\u001b[0m\u001b[1;33m\u001b[0m\u001b[0m\n\u001b[1;32m--> 449\u001b[1;33m     \u001b[1;32mreturn\u001b[0m \u001b[0mmodule_v2\u001b[0m\u001b[1;33m.\u001b[0m\u001b[0mload\u001b[0m\u001b[1;33m(\u001b[0m\u001b[0mhandle\u001b[0m\u001b[1;33m,\u001b[0m \u001b[0mtags\u001b[0m\u001b[1;33m=\u001b[0m\u001b[0mtags\u001b[0m\u001b[1;33m,\u001b[0m \u001b[0moptions\u001b[0m\u001b[1;33m=\u001b[0m\u001b[0mset_load_options\u001b[0m\u001b[1;33m)\u001b[0m\u001b[1;33m\u001b[0m\u001b[1;33m\u001b[0m\u001b[0m\n\u001b[0m\u001b[0;32m    450\u001b[0m \u001b[1;33m\u001b[0m\u001b[0m\n\u001b[0;32m    451\u001b[0m \u001b[1;33m\u001b[0m\u001b[0m\n",
      "\u001b[1;32m~\\Anaconda3\\lib\\site-packages\\tensorflow_hub\\module_v2.py\u001b[0m in \u001b[0;36mload\u001b[1;34m(handle, tags, options)\u001b[0m\n\u001b[0;32m    104\u001b[0m         module_path, tags=tags, options=options)\n\u001b[0;32m    105\u001b[0m   \u001b[1;32melse\u001b[0m\u001b[1;33m:\u001b[0m\u001b[1;33m\u001b[0m\u001b[1;33m\u001b[0m\u001b[0m\n\u001b[1;32m--> 106\u001b[1;33m     \u001b[0mobj\u001b[0m \u001b[1;33m=\u001b[0m \u001b[0mtf\u001b[0m\u001b[1;33m.\u001b[0m\u001b[0mcompat\u001b[0m\u001b[1;33m.\u001b[0m\u001b[0mv1\u001b[0m\u001b[1;33m.\u001b[0m\u001b[0msaved_model\u001b[0m\u001b[1;33m.\u001b[0m\u001b[0mload_v2\u001b[0m\u001b[1;33m(\u001b[0m\u001b[0mmodule_path\u001b[0m\u001b[1;33m,\u001b[0m \u001b[0mtags\u001b[0m\u001b[1;33m=\u001b[0m\u001b[0mtags\u001b[0m\u001b[1;33m)\u001b[0m\u001b[1;33m\u001b[0m\u001b[1;33m\u001b[0m\u001b[0m\n\u001b[0m\u001b[0;32m    107\u001b[0m   \u001b[0mobj\u001b[0m\u001b[1;33m.\u001b[0m\u001b[0m_is_hub_module_v1\u001b[0m \u001b[1;33m=\u001b[0m \u001b[0mis_hub_module_v1\u001b[0m  \u001b[1;31m# pylint: disable=protected-access\u001b[0m\u001b[1;33m\u001b[0m\u001b[1;33m\u001b[0m\u001b[0m\n\u001b[0;32m    108\u001b[0m   \u001b[1;32mreturn\u001b[0m \u001b[0mobj\u001b[0m\u001b[1;33m\u001b[0m\u001b[1;33m\u001b[0m\u001b[0m\n",
      "\u001b[1;32m~\\Anaconda3\\lib\\site-packages\\tensorflow_core\\python\\saved_model\\load.py\u001b[0m in \u001b[0;36mload\u001b[1;34m(export_dir, tags)\u001b[0m\n\u001b[0;32m    526\u001b[0m     \u001b[0mValueError\u001b[0m\u001b[1;33m:\u001b[0m \u001b[0mIf\u001b[0m\u001b[0;31m \u001b[0m\u001b[0;31m`\u001b[0m\u001b[0mtags\u001b[0m\u001b[0;31m`\u001b[0m \u001b[0mdon\u001b[0m\u001b[0;31m'\u001b[0m\u001b[0mt\u001b[0m \u001b[0mmatch\u001b[0m \u001b[0ma\u001b[0m \u001b[0mMetaGraph\u001b[0m \u001b[1;32min\u001b[0m \u001b[0mthe\u001b[0m \u001b[0mSavedModel\u001b[0m\u001b[1;33m.\u001b[0m\u001b[1;33m\u001b[0m\u001b[1;33m\u001b[0m\u001b[0m\n\u001b[0;32m    527\u001b[0m   \"\"\"\n\u001b[1;32m--> 528\u001b[1;33m   \u001b[1;32mreturn\u001b[0m \u001b[0mload_internal\u001b[0m\u001b[1;33m(\u001b[0m\u001b[0mexport_dir\u001b[0m\u001b[1;33m,\u001b[0m \u001b[0mtags\u001b[0m\u001b[1;33m)\u001b[0m\u001b[1;33m\u001b[0m\u001b[1;33m\u001b[0m\u001b[0m\n\u001b[0m\u001b[0;32m    529\u001b[0m \u001b[1;33m\u001b[0m\u001b[0m\n\u001b[0;32m    530\u001b[0m \u001b[1;33m\u001b[0m\u001b[0m\n",
      "\u001b[1;32m~\\Anaconda3\\lib\\site-packages\\tensorflow_core\\python\\saved_model\\load.py\u001b[0m in \u001b[0;36mload_internal\u001b[1;34m(export_dir, tags, loader_cls)\u001b[0m\n\u001b[0;32m    550\u001b[0m       loader = loader_cls(object_graph_proto,\n\u001b[0;32m    551\u001b[0m                           \u001b[0msaved_model_proto\u001b[0m\u001b[1;33m,\u001b[0m\u001b[1;33m\u001b[0m\u001b[1;33m\u001b[0m\u001b[0m\n\u001b[1;32m--> 552\u001b[1;33m                           export_dir)\n\u001b[0m\u001b[0;32m    553\u001b[0m       \u001b[0mroot\u001b[0m \u001b[1;33m=\u001b[0m \u001b[0mloader\u001b[0m\u001b[1;33m.\u001b[0m\u001b[0mget\u001b[0m\u001b[1;33m(\u001b[0m\u001b[1;36m0\u001b[0m\u001b[1;33m)\u001b[0m\u001b[1;33m\u001b[0m\u001b[1;33m\u001b[0m\u001b[0m\n\u001b[0;32m    554\u001b[0m     \u001b[0mroot\u001b[0m\u001b[1;33m.\u001b[0m\u001b[0mtensorflow_version\u001b[0m \u001b[1;33m=\u001b[0m \u001b[0mmeta_graph_def\u001b[0m\u001b[1;33m.\u001b[0m\u001b[0mmeta_info_def\u001b[0m\u001b[1;33m.\u001b[0m\u001b[0mtensorflow_version\u001b[0m\u001b[1;33m\u001b[0m\u001b[1;33m\u001b[0m\u001b[0m\n",
      "\u001b[1;32m~\\Anaconda3\\lib\\site-packages\\tensorflow_core\\python\\saved_model\\load.py\u001b[0m in \u001b[0;36m__init__\u001b[1;34m(self, object_graph_proto, saved_model_proto, export_dir)\u001b[0m\n\u001b[0;32m    112\u001b[0m     self._concrete_functions = (\n\u001b[0;32m    113\u001b[0m         function_deserialization.load_function_def_library(\n\u001b[1;32m--> 114\u001b[1;33m             meta_graph.graph_def.library))\n\u001b[0m\u001b[0;32m    115\u001b[0m \u001b[1;33m\u001b[0m\u001b[0m\n\u001b[0;32m    116\u001b[0m     \u001b[1;32mfor\u001b[0m \u001b[0mname\u001b[0m\u001b[1;33m,\u001b[0m \u001b[0mconcrete_function\u001b[0m \u001b[1;32min\u001b[0m \u001b[0mself\u001b[0m\u001b[1;33m.\u001b[0m\u001b[0m_concrete_functions\u001b[0m\u001b[1;33m.\u001b[0m\u001b[0mitems\u001b[0m\u001b[1;33m(\u001b[0m\u001b[1;33m)\u001b[0m\u001b[1;33m:\u001b[0m\u001b[1;33m\u001b[0m\u001b[1;33m\u001b[0m\u001b[0m\n",
      "\u001b[1;32m~\\Anaconda3\\lib\\site-packages\\tensorflow_core\\python\\saved_model\\function_deserialization.py\u001b[0m in \u001b[0;36mload_function_def_library\u001b[1;34m(library, load_shared_name_suffix)\u001b[0m\n\u001b[0;32m    310\u001b[0m     \u001b[1;31m# function before and passed in explicitly (due to the topologic sort\u001b[0m\u001b[1;33m\u001b[0m\u001b[1;33m\u001b[0m\u001b[1;33m\u001b[0m\u001b[0m\n\u001b[0;32m    311\u001b[0m     \u001b[1;31m# import).\u001b[0m\u001b[1;33m\u001b[0m\u001b[1;33m\u001b[0m\u001b[1;33m\u001b[0m\u001b[0m\n\u001b[1;32m--> 312\u001b[1;33m     \u001b[0mfunc_graph\u001b[0m \u001b[1;33m=\u001b[0m \u001b[0mfunction_def_lib\u001b[0m\u001b[1;33m.\u001b[0m\u001b[0mfunction_def_to_graph\u001b[0m\u001b[1;33m(\u001b[0m\u001b[0mcopy\u001b[0m\u001b[1;33m)\u001b[0m\u001b[1;33m\u001b[0m\u001b[1;33m\u001b[0m\u001b[0m\n\u001b[0m\u001b[0;32m    313\u001b[0m     \u001b[0m_restore_gradient_functions\u001b[0m\u001b[1;33m(\u001b[0m\u001b[0mfunc_graph\u001b[0m\u001b[1;33m,\u001b[0m \u001b[0mrenamed_functions\u001b[0m\u001b[1;33m)\u001b[0m\u001b[1;33m\u001b[0m\u001b[1;33m\u001b[0m\u001b[0m\n\u001b[0;32m    314\u001b[0m \u001b[1;33m\u001b[0m\u001b[0m\n",
      "\u001b[1;32m~\\Anaconda3\\lib\\site-packages\\tensorflow_core\\python\\framework\\function_def_to_graph.py\u001b[0m in \u001b[0;36mfunction_def_to_graph\u001b[1;34m(fdef, input_shapes)\u001b[0m\n\u001b[0;32m     57\u001b[0m       \u001b[0minput_shapes\u001b[0m \u001b[1;33m=\u001b[0m \u001b[0minput_shapes_attr\u001b[0m\u001b[1;33m.\u001b[0m\u001b[0mlist\u001b[0m\u001b[1;33m.\u001b[0m\u001b[0mshape\u001b[0m\u001b[1;33m\u001b[0m\u001b[1;33m\u001b[0m\u001b[0m\n\u001b[0;32m     58\u001b[0m   graph_def, nested_to_flat_tensor_name = function_def_to_graph_def(\n\u001b[1;32m---> 59\u001b[1;33m       fdef, input_shapes)\n\u001b[0m\u001b[0;32m     60\u001b[0m \u001b[1;33m\u001b[0m\u001b[0m\n\u001b[0;32m     61\u001b[0m   \u001b[1;32mwith\u001b[0m \u001b[0mfunc_graph\u001b[0m\u001b[1;33m.\u001b[0m\u001b[0mas_default\u001b[0m\u001b[1;33m(\u001b[0m\u001b[1;33m)\u001b[0m\u001b[1;33m:\u001b[0m\u001b[1;33m\u001b[0m\u001b[1;33m\u001b[0m\u001b[0m\n",
      "\u001b[1;32m~\\Anaconda3\\lib\\site-packages\\tensorflow_core\\python\\framework\\function_def_to_graph.py\u001b[0m in \u001b[0;36mfunction_def_to_graph_def\u001b[1;34m(fdef, input_shapes)\u001b[0m\n\u001b[0;32m    216\u001b[0m           \u001b[0mgraph_def\u001b[0m\u001b[1;33m.\u001b[0m\u001b[0mlibrary\u001b[0m\u001b[1;33m.\u001b[0m\u001b[0mgradient\u001b[0m\u001b[1;33m.\u001b[0m\u001b[0mextend\u001b[0m\u001b[1;33m(\u001b[0m\u001b[1;33m[\u001b[0m\u001b[0mgrad_def\u001b[0m\u001b[1;33m]\u001b[0m\u001b[1;33m)\u001b[0m\u001b[1;33m\u001b[0m\u001b[1;33m\u001b[0m\u001b[0m\n\u001b[0;32m    217\u001b[0m     \u001b[1;32melse\u001b[0m\u001b[1;33m:\u001b[0m\u001b[1;33m\u001b[0m\u001b[1;33m\u001b[0m\u001b[0m\n\u001b[1;32m--> 218\u001b[1;33m       \u001b[0mop_def\u001b[0m \u001b[1;33m=\u001b[0m \u001b[0mdefault_graph\u001b[0m\u001b[1;33m.\u001b[0m\u001b[0m_get_op_def\u001b[0m\u001b[1;33m(\u001b[0m\u001b[0mnode_def\u001b[0m\u001b[1;33m.\u001b[0m\u001b[0mop\u001b[0m\u001b[1;33m)\u001b[0m  \u001b[1;31m# pylint: disable=protected-access\u001b[0m\u001b[1;33m\u001b[0m\u001b[1;33m\u001b[0m\u001b[0m\n\u001b[0m\u001b[0;32m    219\u001b[0m \u001b[1;33m\u001b[0m\u001b[0m\n\u001b[0;32m    220\u001b[0m     \u001b[1;32mfor\u001b[0m \u001b[0mattr\u001b[0m \u001b[1;32min\u001b[0m \u001b[0mop_def\u001b[0m\u001b[1;33m.\u001b[0m\u001b[0mattr\u001b[0m\u001b[1;33m:\u001b[0m\u001b[1;33m\u001b[0m\u001b[1;33m\u001b[0m\u001b[0m\n",
      "\u001b[1;32m~\\Anaconda3\\lib\\site-packages\\tensorflow_core\\python\\framework\\ops.py\u001b[0m in \u001b[0;36m_get_op_def\u001b[1;34m(self, type)\u001b[0m\n\u001b[0;32m   3710\u001b[0m       \u001b[1;32mwith\u001b[0m \u001b[0mc_api_util\u001b[0m\u001b[1;33m.\u001b[0m\u001b[0mtf_buffer\u001b[0m\u001b[1;33m(\u001b[0m\u001b[1;33m)\u001b[0m \u001b[1;32mas\u001b[0m \u001b[0mbuf\u001b[0m\u001b[1;33m:\u001b[0m\u001b[1;33m\u001b[0m\u001b[1;33m\u001b[0m\u001b[0m\n\u001b[0;32m   3711\u001b[0m         \u001b[1;31m# pylint: disable=protected-access\u001b[0m\u001b[1;33m\u001b[0m\u001b[1;33m\u001b[0m\u001b[1;33m\u001b[0m\u001b[0m\n\u001b[1;32m-> 3712\u001b[1;33m         \u001b[0mc_api\u001b[0m\u001b[1;33m.\u001b[0m\u001b[0mTF_GraphGetOpDef\u001b[0m\u001b[1;33m(\u001b[0m\u001b[0mself\u001b[0m\u001b[1;33m.\u001b[0m\u001b[0m_c_graph\u001b[0m\u001b[1;33m,\u001b[0m \u001b[0mcompat\u001b[0m\u001b[1;33m.\u001b[0m\u001b[0mas_bytes\u001b[0m\u001b[1;33m(\u001b[0m\u001b[0mtype\u001b[0m\u001b[1;33m)\u001b[0m\u001b[1;33m,\u001b[0m \u001b[0mbuf\u001b[0m\u001b[1;33m)\u001b[0m\u001b[1;33m\u001b[0m\u001b[1;33m\u001b[0m\u001b[0m\n\u001b[0m\u001b[0;32m   3713\u001b[0m         \u001b[1;31m# pylint: enable=protected-access\u001b[0m\u001b[1;33m\u001b[0m\u001b[1;33m\u001b[0m\u001b[1;33m\u001b[0m\u001b[0m\n\u001b[0;32m   3714\u001b[0m         \u001b[0mdata\u001b[0m \u001b[1;33m=\u001b[0m \u001b[0mc_api\u001b[0m\u001b[1;33m.\u001b[0m\u001b[0mTF_GetBuffer\u001b[0m\u001b[1;33m(\u001b[0m\u001b[0mbuf\u001b[0m\u001b[1;33m)\u001b[0m\u001b[1;33m\u001b[0m\u001b[1;33m\u001b[0m\u001b[0m\n",
      "\u001b[1;31mNotFoundError\u001b[0m: Op type not registered 'CaseFoldUTF8' in binary running on AUSTINNOTEBOOK. Make sure the Op and Kernel are registered in the binary running in this process. Note that if you are loading a saved graph which used ops from tf.contrib, accessing (e.g.) `tf.contrib.resampler` should be done before importing the graph, as contrib ops are lazily registered when the module is first accessed."
     ]
    }
   ],
   "source": [
    " \n",
    "preprocessor = hub.KerasLayer(\"https://tfhub.dev/tensorflow/bert_en_uncased_preprocess/3\")\n",
    "encoder = hub.KerasLayer(\"https://tfhub.dev/tensorflow/small_bert/bert_en_uncased_L-2_H-128_A-2/1\", trainable=True)\n",
    "\n",
    "def get_bert_embeddings(text, preprocessor, encoder):\n",
    "\n",
    "    text_input = tf.keras.layers.Input(shape=(), dtype=tf.string)\n",
    "    encoder_inputs = preprocessor(text_input)\n",
    "    outputs = encoder(encoder_inputs)\n",
    "    embedding_model = tf.keras.Model(text_input, outputs['pooled_output'])\n",
    "    sentences = tf.constant([text])\n",
    "    return embedding_model(sentences)\n",
    "\n",
    "Final['encodings'] = Final['metadata'].apply(lambda x: get_bert_embeddings(x, preprocessor, encoder))"
   ]
  },
  {
   "cell_type": "code",
   "execution_count": null,
   "metadata": {},
   "outputs": [],
   "source": [
    "def preprocess_text():\n",
    "    text = input()\n",
    "    text = text.lower()\n",
    "    text = re.sub('[^A-Za-z0-9]+', ' ', text)\n",
    "    return text\n",
    "  \n",
    "query_text = preprocess_text()"
   ]
  },
  {
   "cell_type": "code",
   "execution_count": null,
   "metadata": {},
   "outputs": [],
   "source": [
    "query_encoding = get_bert_embeddings(query_text, preprocessor, encoder)\n",
    "\n",
    "df_yt['similarity_score'] = df_yt['encodings'].apply(lambda x: metrics.pairwise.cosine_similarity(x, query_encoding)[0][0])\n",
    "df_results = df_yt.sort_values(by=['similarity_score'], ascending=False)"
   ]
  },
  {
   "cell_type": "code",
   "execution_count": null,
   "metadata": {},
   "outputs": [],
   "source": [
    "tfidf_df.head(5)"
   ]
  },
  {
   "cell_type": "code",
   "execution_count": null,
   "metadata": {},
   "outputs": [],
   "source": [
    "content_correlation = linear_kernel(tfidf_matrix, tfidf_matrix)"
   ]
  },
  {
   "cell_type": "code",
   "execution_count": null,
   "metadata": {},
   "outputs": [],
   "source": [
    "# (3a)\n",
    "content_prediction = predict(rating_f2.T, content_correlation, type='content')\n",
    "content_pred_df = pd.DataFrame(content_prediction, columns = list(Filtered_books.ISBN))\n",
    "print('Content-based RS with ranking')\n",
    "user_full, recommendations = recommend_books(content_pred_df, 5, Final, rating_f1, 10, 'CT_3a_pred_rating')\n",
    "recommendations"
   ]
  },
  {
   "cell_type": "code",
   "execution_count": null,
   "metadata": {},
   "outputs": [],
   "source": [
    "# (3b)\n",
    "content_prediction = predict(rating_f2.T, content_correlation, type='item')\n",
    "content_pred_df = pd.DataFrame(content_prediction, columns = list(Filtered_books.ISBN))\n",
    "print('Content-based RS with ranking')\n",
    "user_full, recommendations = recommend_books(content_pred_df, 5, Final, rating_f1, 10, 'CT_3b_pred_rating')\n",
    "recommendations"
   ]
  },
  {
   "cell_type": "code",
   "execution_count": null,
   "metadata": {},
   "outputs": [],
   "source": [
    "# (3c)\n",
    "def pred_norm(similarity, a, b):\n",
    "    return (b-a)*((similarity-np.min(similarity, axis=1)[np.newaxis, :])/np.max(similarity, axis=1)[np.newaxis, :]-np.min(similarity, axis=1)[np.newaxis, :])+a\n",
    "content_prediction = pred_norm(content_correlation, 0,5)\n",
    "content_pred_df = pd.DataFrame(content_prediction, columns = list(Filtered_books.ISBN))\n",
    "print(content_pred_df.shape)\n",
    "print('Content-based RS without ranking')\n",
    "user_full, recommendations = recommend_books(content_pred_df, 5, Final, rating_f1, 10, 'CT_3c_pred_rating')\n",
    "recommendations"
   ]
  },
  {
   "cell_type": "code",
   "execution_count": null,
   "metadata": {},
   "outputs": [],
   "source": [
    "indices = pd.DataFrame(np.array([np.arange(0,len(Final)),Final.ISBN]).T, index=Final['Name'])\n",
    "def get_recommendations(title, cosine_sim, method_name, num_recommend=10):\n",
    "    # Get the index of the book that matches the title\n",
    "    if type(indices.loc[title,0]) is int:\n",
    "        idx = indices.loc[title,0]\n",
    "    else:\n",
    "        idx = indices.loc[title,0].iloc[0]\n",
    "\n",
    "    # Get the pairwise similarity scores of all books with that book\n",
    "    sim_scores = list(enumerate(content_prediction[idx]))\n",
    "\n",
    "    # Sort the books based on the similarity scores\n",
    "    sim_scores = sorted(sim_scores, key=lambda x: x[1], reverse=True)\n",
    "\n",
    "    # Get the scores of the top K most similar books\n",
    "    sim_scores = sim_scores[1:10]\n",
    "    \n",
    "    book_indices = [i[0] for i in sim_scores]\n",
    "    # Get the book ISBN\n",
    "    book_ISBN = [indices.iloc[i[0],1] for i in sim_scores]\n",
    "\n",
    "    # Get the pred scores\n",
    "    book_pred_score = [i[1] for i in sim_scores]\n",
    "\n",
    "    # Return the top K most similar books\n",
    "    return pd.DataFrame({'ISBN': book_ISBN,'Name': list(Final['Name'].iloc[book_indices].values), 'metadata': list(Final['metadata'].iloc[book_indices].values), method_name: book_pred_score})"
   ]
  },
  {
   "cell_type": "markdown",
   "metadata": {},
   "source": [
    "# Find Similar book"
   ]
  },
  {
   "cell_type": "code",
   "execution_count": null,
   "metadata": {},
   "outputs": [],
   "source": [
    "book_search = 'Harry Potter and the Order of the Phoenix (Harry Potter, #5)'\n",
    "# run with (3a)\n",
    "# content_prediction = predict(rating_f2.T, content_correlation, type='content')\n",
    "# content_pred_df = pd.DataFrame(content_prediction, columns = list(Filtered_books.ISBN))\n",
    "# run with (3b)\n",
    "# content_prediction = predict(rating_f2.T, content_correlation, type='item')\n",
    "# content_pred_df = pd.DataFrame(content_prediction, columns = list(Filtered_books.ISBN))\n",
    "# default run with (3c)\n",
    "display(Final[Final.Name==book_search])\n",
    "print(\"Similar books:\")\n",
    "get_recommendations(book_search, content_prediction, 'CT_3c_pred_rating', num_recommend=10)"
   ]
  },
  {
   "cell_type": "markdown",
   "metadata": {},
   "source": [
    "# Hybrid"
   ]
  },
  {
   "cell_type": "code",
   "execution_count": null,
   "metadata": {},
   "outputs": [],
   "source": [
    "userid = 2\n",
    "\n",
    "_, CF_user_pred_rating = recommend_books(user_pred_df, userid, Filtered_books, rating_f1, len(Filtered_books), 'CF_user_pred_rating')\n",
    "_, CF_item_pred_rating = recommend_books(item_pred_df, userid, Filtered_books, rating_f1, len(Filtered_books), 'CF_item_pred_rating')\n",
    "content_prediction = predict(rating_f2.T, content_correlation, type='item')\n",
    "content_pred_df = pd.DataFrame(content_prediction, columns = list(Filtered_books.ISBN))\n",
    "_, CT_3b_pred_rating = recommend_books(content_pred_df, userid, Filtered_books, rating_f1, len(Filtered_books), 'CT_3b_pred_rating')\n",
    "Final_hybrid = pd.merge(pd.merge(CF_user_pred_rating,CF_item_pred_rating,on=['ISBN', 'Name', 'Genre']),CT_3b_pred_rating,on=['ISBN', 'Name', 'Genre'])\n",
    "hybrid_score = ((Final_hybrid.CF_user_pred_rating + Final_hybrid.CF_item_pred_rating + Final_hybrid.CT_3b_pred_rating)/3.0)\n",
    "Final_hybrid['hybrid_pred_rating'] = hybrid_score\n",
    "\n",
    "# Sort it on the basis of either: CF_user_pred_rating, CF_item_pred_rating, CT_3b_pred_rating or hybrid_pred_rating, \n",
    "# Here : hybrid_pred_rating\n",
    "Final_hybrid.sort_values('hybrid_pred_rating', ascending=False, inplace = True)\n",
    "\n",
    "# Recommend top K books based on the input user\n",
    "Final_hybrid.set_index(['Name']).iloc[1:11]"
   ]
  },
  {
   "cell_type": "markdown",
   "metadata": {},
   "source": [
    "## Matrix Factorization by using SVD (Surprise Library)"
   ]
  },
  {
   "cell_type": "code",
   "execution_count": null,
   "metadata": {},
   "outputs": [],
   "source": [
    "from surprise import Dataset, Reader, SVD, accuracy\n",
    "from surprise.model_selection import train_test_split\n",
    "# Instantiate a reader with the specified rating scale\n",
    "# and read in the rating data\n",
    "reader = Reader(rating_scale=(0, 10))\n",
    "data = Dataset.load_from_df(rating_f[['User-ID','ISBN','Book-Rating']], reader)\n",
    " \n",
    "# Train SVD on 75% of known rates\n",
    "trainset, testset = train_test_split(data, test_size=0.25, random_state = 0)"
   ]
  },
  {
   "cell_type": "code",
   "execution_count": null,
   "metadata": {},
   "outputs": [],
   "source": [
    "# Check the testset\n",
    "df_test = pd.DataFrame(testset, columns=['User-ID','ISBN','Book-Rating'])\n",
    "#df_test.head(3)\n",
    "print(\"Test data Size: %i\" %len(df_test))\n",
    "\n",
    "df_test.head(3)"
   ]
  },
  {
   "cell_type": "code",
   "execution_count": null,
   "metadata": {},
   "outputs": [],
   "source": [
    "# Train the model on trainset and evaluate on testset\n",
    "# About the implemented SVD: https://surprise.readthedocs.io/en/stable/matrix_factorization.html#surprise.prediction_algorithms.matrix_factorization.SVD\n",
    "algorithm = SVD()\n",
    "model_svd = algorithm.fit(trainset)\n",
    "predictions = model_svd.test(testset)"
   ]
  },
  {
   "cell_type": "code",
   "execution_count": null,
   "metadata": {},
   "outputs": [],
   "source": [
    "predictions[:3]\n"
   ]
  },
  {
   "cell_type": "code",
   "execution_count": null,
   "metadata": {},
   "outputs": [],
   "source": [
    "from collections import Counter\n",
    "df_pred = pd.DataFrame(predictions, columns=['User-ID','ISBN','Book-Rating', 'pred_rating', 'details'])\n",
    "df_pred.head(5)"
   ]
  },
  {
   "cell_type": "code",
   "execution_count": null,
   "metadata": {},
   "outputs": [],
   "source": [
    "# Check the accuracy using Root Mean Square Error\n",
    "print(accuracy.rmse(predictions))"
   ]
  },
  {
   "cell_type": "code",
   "execution_count": null,
   "metadata": {},
   "outputs": [],
   "source": [
    "# Check the accuracy using Mean Absolute Error\n",
    "print(accuracy.mae(predictions))"
   ]
  },
  {
   "cell_type": "code",
   "execution_count": null,
   "metadata": {},
   "outputs": [],
   "source": [
    "from sklearn.model_selection import train_test_split\n",
    "from surprise.model_selection import cross_validate\n",
    "reader = Reader(rating_scale=(0, 10))\n",
    "trainset, testset = train_test_split(rating_f[['User-ID','ISBN','Book-Rating']], test_size=0.25, random_state=0)\n",
    "trainset.index = range(len(trainset)) \n",
    "testset.index = range(len(testset)) \n",
    "trainset = Dataset.load_from_df(trainset, reader)\n",
    "data = Dataset.load_from_df(rating_f[['User-ID','ISBN','Book-Rating']], reader)\n",
    "#trainset = Dataset.load_from_df(trainset, reader).build_full_trainset()\n",
    "#testset = Dataset.load_from_df(testset, reader)\n",
    "testset = testset.values.tolist()\n",
    "benchmark = []\n",
    "i = 0\n",
    "alg_list = ['SVD(n_factors=50)', 'SVD(n_factors=100)', \n",
    "            'SVD(n_factors=150)']\n",
    "for algorithm in [SVD(n_factors=50), SVD(n_factors=100), SVD(n_factors=150)]:\n",
    "    # Perform cross validation\n",
    "    results = cross_validate(algorithm, data, measures=['RMSE','MAE'], cv=5, verbose=False)\n",
    "    \n",
    "    # Get results & append algorithm name\n",
    "    tmp = pd.DataFrame.from_dict(results).mean(axis=0)\n",
    "    tmp = tmp.append(pd.Series([alg_list[i]], index=['Algorithm']))\n",
    "    benchmark.append(tmp)\n",
    "    i+=1\n",
    "pd.DataFrame(benchmark).set_index('Algorithm').sort_values('test_rmse')"
   ]
  },
  {
   "cell_type": "code",
   "execution_count": null,
   "metadata": {},
   "outputs": [],
   "source": [
    "# Train on full training set and evaluate on test set\n",
    "trainset = trainset.build_full_trainset()\n",
    "algorithm = SVD(n_factors=50)\n",
    "model_svd = algorithm.fit(trainset)\n",
    "predictions = model_svd.test(testset)"
   ]
  },
  {
   "cell_type": "code",
   "execution_count": null,
   "metadata": {},
   "outputs": [],
   "source": [
    "print(accuracy.rmse(predictions))\n",
    "print(accuracy.mae(predictions))"
   ]
  },
  {
   "cell_type": "code",
   "execution_count": null,
   "metadata": {},
   "outputs": [],
   "source": [
    "rating_f"
   ]
  },
  {
   "cell_type": "code",
   "execution_count": null,
   "metadata": {},
   "outputs": [],
   "source": [
    "rating_f.rename(columns = {'User-ID':'userID'}, inplace = True)\n",
    "rating.rename(columns = {'User-ID':'userID'}, inplace = True)"
   ]
  },
  {
   "cell_type": "code",
   "execution_count": null,
   "metadata": {},
   "outputs": [],
   "source": [
    "from surprise import SVD, NMF, KNNBasic, KNNWithMeans\n",
    "from sklearn.model_selection import train_test_split\n",
    "\n",
    "## Load the data into surprise input data format, split into training and testing\n",
    "reader = Reader(rating_scale=(0, 10))\n",
    "trainset, testset = train_test_split(rating_f[['userID','ISBN','Book-Rating']], test_size=0.2, random_state=0)\n",
    "trainset.index = range(len(trainset)) \n",
    "testset.index = range(len(testset)) \n",
    "\n",
    "trainset = Dataset.load_from_df(trainset, reader)\n",
    "testset = testset.values.tolist()"
   ]
  },
  {
   "cell_type": "code",
   "execution_count": null,
   "metadata": {},
   "outputs": [],
   "source": [
    "display(trainset)\n"
   ]
  },
  {
   "cell_type": "code",
   "execution_count": null,
   "metadata": {},
   "outputs": [],
   "source": [
    "\n",
    "# Define the models and their hyperparameters \n",
    "sim_option_item = {'name': 'cosine',\n",
    "              'item_based': False  # compute similarities between items\n",
    "               }\n",
    "sim_option_user = {'name': 'pearson',\n",
    "              'user_based': True  # compute similarities between users\n",
    "               }\n",
    "benchmark = []\n",
    "i = 0\n",
    "alg_list = ['SVD(n_factors=50)', \n",
    "            'KNNBasic(k=20, sim=cosine, item-based)', \n",
    "            'KNNBasic(k=20, sim=pearson, user-based)']\n",
    "\n",
    "# Iterate over selected algorithms based on 5-fold CV on training set\n",
    "for algorithm in [SVD(n_factors=50), KNNBasic(k=20, sim_options=sim_option_item), KNNBasic(k=20, sim_options=sim_option_user)]:\n",
    "    # Perform cross validation\n",
    "    \n",
    "    results = cross_validate(algorithm, trainset, measures=['RMSE','MAE'], cv=5, verbose=False)\n",
    "    \n",
    "    # Get results & append algorithm name\n",
    "    tmp = pd.DataFrame.from_dict(results).mean(axis=0)\n",
    "    tmp = tmp.append(pd.Series([alg_list[i]], index=['Algorithm']))\n",
    "    benchmark.append(tmp)\n",
    "    i+=1\n",
    "pd.DataFrame(benchmark).set_index('Algorithm').sort_values('test_rmse')    "
   ]
  },
  {
   "cell_type": "code",
   "execution_count": null,
   "metadata": {},
   "outputs": [],
   "source": [
    "# Since SVD(n_factors=50) reach the lowest RMSE and MAE\n",
    "# We use this model to train on whole training set and evaluate the final result on testset\n",
    "trainset = trainset.build_full_trainset()\n",
    "algorithm = SVD(n_factors=50)\n",
    "model_svd = algorithm.fit(trainset)\n",
    "predictions = model_svd.test(testset)\n",
    "print(accuracy.rmse(predictions))\n",
    "print(accuracy.mae(predictions))"
   ]
  },
  {
   "cell_type": "code",
   "execution_count": null,
   "metadata": {},
   "outputs": [],
   "source": [
    "\n",
    "\n",
    "book_list_rating = rating_f.ISBN.unique().tolist()\n",
    "books_filter = books[books.ISBN.isin(book_list_rating)]\n",
    "print(len(books_filter))\n",
    "print('Preserved rate of the books : {0:.2f} %'.format(len(rating_f.ISBN.unique())/len(books_filter.ISBN.unique()) * 100))\n",
    "print('Preserved rate of the users : {0:.2f} %'.format(len(rating_f.userID.unique())/len(rating_f.userID.unique()) * 100))\n",
    "\n",
    "rating_f.head(4)"
   ]
  },
  {
   "cell_type": "code",
   "execution_count": null,
   "metadata": {},
   "outputs": [],
   "source": [
    "rating_f.shape[0]"
   ]
  },
  {
   "cell_type": "code",
   "execution_count": null,
   "metadata": {},
   "outputs": [],
   "source": [
    "rating_f"
   ]
  },
  {
   "cell_type": "code",
   "execution_count": null,
   "metadata": {},
   "outputs": [],
   "source": [
    "# Map books to id:\n",
    "Mapping_file = dict(zip(books_filter.ISBN.tolist(), books_filter.ISBN.tolist()))\n"
   ]
  },
  {
   "cell_type": "code",
   "execution_count": null,
   "metadata": {},
   "outputs": [],
   "source": [
    "def pred_user_rating(user_id, num_recommend):\n",
    "    if user_id in rating_f.userID.unique():\n",
    "        ui_list = rating_f[rating_f.userID == user_id].ISBN.tolist()\n",
    "        d = {k: v for k,v in Mapping_file.items() if not v in ui_list}        \n",
    "        predictedL = []\n",
    "        for i, j in d.items():     \n",
    "            predicted = algorithm.predict(userid, j)\n",
    "            predictedL.append((i, predicted[3])) \n",
    "        pdf = pd.DataFrame(predictedL, columns = ['ISBN', 'ratings'])\n",
    "        pdf.sort_values('ratings', ascending=False, inplace=True)  \n",
    "        pdf.set_index('ISBN', inplace=True)   \n",
    "        recommend_list = pdf.head(num_recommend)  \n",
    "        return pdf.head(num_recommend)        \n",
    "    else:\n",
    "        print(\"User Id does not exist in the list!\")\n",
    "        return None"
   ]
  },
  {
   "cell_type": "code",
   "execution_count": null,
   "metadata": {},
   "outputs": [],
   "source": [
    "rating_f.userID.unique()"
   ]
  },
  {
   "cell_type": "code",
   "execution_count": null,
   "metadata": {},
   "outputs": [],
   "source": [
    "user_id = int(input(\"Enter the user id to whom you want to recommend : \"))\n",
    "num_recommend = int(input(\"Enter the number of books you want to recommend : \"))\n",
    "pred_user_rating(user_id, num_recommend)"
   ]
  },
  {
   "cell_type": "code",
   "execution_count": null,
   "metadata": {},
   "outputs": [],
   "source": [
    "print(\"Get recommended books metadata\")\n",
    "rec_books = pred_user_rating(user_id, num_recommend)\n",
    "rec_books_md = pd.merge(rec_books, books , how='left', left_on='ISBN', right_on='ISBN')[['ISBN','Name','Genre']]\n",
    "display(rec_books_md.head(5))\n",
    "\n",
    "print(len(rating_f[rating_f.userID==110912]))\n",
    "rating_f[rating_f.userID==110912].merge(books).sort_values('Book-Rating', ascending=False)"
   ]
  },
  {
   "cell_type": "code",
   "execution_count": null,
   "metadata": {},
   "outputs": [],
   "source": [
    "trainset, testset = train_test_split(rating_f[['userID','ISBN','Book-Rating']], test_size=0.25, random_state=0)\n",
    "trainset.index = range(len(trainset)) # 75627\n",
    "testset.index = range(len(testset))\n",
    "print(len(testset[testset.userID==2]))\n",
    "check = testset[testset.userID==2]\n",
    "check.index = range(len(check))\n",
    "check.merge(books)\n"
   ]
  },
  {
   "cell_type": "code",
   "execution_count": null,
   "metadata": {},
   "outputs": [],
   "source": [
    "from fastai.collab import *\n",
    "from fastai.tabular import *\n",
    "\n"
   ]
  },
  {
   "cell_type": "markdown",
   "metadata": {},
   "source": [
    "## POPULARITY BASED RECOMMENDATION SYSTEM"
   ]
  },
  {
   "cell_type": "code",
   "execution_count": null,
   "metadata": {},
   "outputs": [],
   "source": [
    "rating_list = pd.merge(Filtered_books[[\"ISBN\",\"Name\",\"Genre\"]],rating_f,on = \"ISBN\", how = \"right\")\n",
    "rating_list = rating_list.replace('\\\\\\\\', ' ',regex=True)\n",
    "rating_list = rating_list.replace('/', ' ',regex=True)\n",
    "rating_list = rating_list.replace('\\+', '',regex=True)\n",
    "rating_list.head()"
   ]
  },
  {
   "cell_type": "code",
   "execution_count": null,
   "metadata": {},
   "outputs": [],
   "source": [
    "rating_count = pd.DataFrame(rating_list['Name'].value_counts())\n",
    "rating_count['Total-Ratings'] = rating_count['Name']\n",
    "rating_count['Name'] = rating_count.index\n",
    "rating_count.reset_index(level=0, inplace=True)\n",
    "rating_count = rating_count.drop('index',axis=1)\n"
   ]
  },
  {
   "cell_type": "code",
   "execution_count": null,
   "metadata": {},
   "outputs": [],
   "source": [
    "\n",
    "def avgRating(rating_count, rating_list):\n",
    "    rating_count['Average-Rating'] = 0\n",
    "    rating_count['Genre'] = ''\n",
    "    for x in rating_count.Name:\n",
    "        l = rating_list.loc[rating_list['Name'] == x]\n",
    "        r = rating_count.loc[rating_count['Name'] == x]\n",
    "        rating_count.loc[rating_count['Name'].str.match(x),'Average-Rating'] = sum(l['Book-Rating'])/len(l)\n",
    "        rating_count.loc[rating_count['Name'].str.match(x),'Genre'] = l['Genre'].iloc[0]\n",
    "    return rating_count\n",
    "\n",
    "rating_count = avgRating(rating_count, rating_list)\n",
    "rating_count\n",
    "# df.to_pickle('weightedData')\n",
    "# df = pd.read_pickle('weightedData')"
   ]
  },
  {
   "cell_type": "code",
   "execution_count": null,
   "metadata": {},
   "outputs": [],
   "source": [
    "## C - Mean vote across the whole\n",
    "C = rating_count['Average-Rating'].mean()\n",
    "\n",
    "## Minimum number of votes required to be in the chart\n",
    "m = rating_count['Total-Ratings'].quantile(0.90)"
   ]
  },
  {
   "cell_type": "code",
   "execution_count": null,
   "metadata": {},
   "outputs": [],
   "source": [
    "def weighted_rating(x, m=m, C=C): \n",
    "    v = x['Total-Ratings']    #v - number of votes\n",
    "    R = x['Average-Rating']   #R - Average Rating   \n",
    "    return (v/(v+m) * R) + (m/(m+v) * C)"
   ]
  },
  {
   "cell_type": "code",
   "execution_count": null,
   "metadata": {},
   "outputs": [],
   "source": [
    "df = rating_count.loc[rating_count['Total-Ratings'] >= m]\n",
    "df['score'] = df.apply(weighted_rating, axis=1)\n",
    "df = df.sort_values('score', ascending=False)\n",
    "number=10\n",
    "print(\"Recommended Books:-\\n\")\n",
    "df.head(number)\n"
   ]
  },
  {
   "cell_type": "markdown",
   "metadata": {},
   "source": [
    "## The Best Book Finder for You"
   ]
  },
  {
   "cell_type": "code",
   "execution_count": null,
   "metadata": {},
   "outputs": [],
   "source": [
    "# Showing Top10 Tranding Movie using Popularity Based Method\n",
    "\n",
    "display(Markdown('<h1><center><strong><span style=\"color:DarkSlateGrey\">{}</span></strong></center></h1>'.format(\"Best Book Finder For You\")))\n",
    "display(Markdown('<h2><center><strong><span style=\"color:CadetBlue\">{}</span></strong></center></h2>'.format(\"Ready to Find the Next Book?\")))\n",
    "display(Markdown('<hr>'))\n",
    "\n",
    "display(Markdown('<h3><em><span style=\"color:DarkSlateGrey\">{}</span></em></h3>'.format(\"Top 10 Tranding Movies Now\")))\n",
    "index_list = list(range(1, number+1))\n",
    "new_df = new_df.set_index(pd.Series(index_list))\n",
    "display(new_df[['Name','Genre']])\n",
    "display(Markdown('<br>'))\n",
    "display(Markdown('<h3><code style=\"background:SlateGray;color:white\">{}</code>&nbsp&nbsp<code style=\"background:SlateGray;color:white\">{}</code>&nbsp&nbsp<code style=\"background:SlateGray;color:white\">{}</code></h3>'.format(\" 1. Find Similiar \",\" 2. Personal Recommendation \",\" 3.End \")))\n",
    "\n",
    "\n",
    "\n",
    "task = int(input(\"Enter the task: \"))\n",
    "while task!=3:\n",
    "    if task==1:\n",
    "        book_search = input(\"Tell me the book you like before: \")\n",
    "        # Test Book 'Harry Potter and the Order of the Phoenix (Harry Potter, #5)'\n",
    "        display(Markdown('<br>'))\n",
    "        display(Markdown('<h3><span style=\"color:DarkSlateGrey\">{}</span><span style=\"color:CadetBlue\">{}</span></h3>'.format(\"The Detail info of \",str(book_search))))\n",
    "        display(Markdown('<hr>'))\n",
    "        display(Final[Final.Name==book_search])\n",
    "        display(Markdown('<h3><span style=\"color:DarkSlateGrey\">{}</span><span style=\"color:CadetBlue\">{}</span><span style=\"color:DarkSlateGrey\">{}</span></h3>'.format(\"Because you like \",str(book_search),\", we found some books you probably like.\")))\n",
    "        display(Markdown('<hr>'))\n",
    "        display(get_recommendations(book_search, content_prediction, 'CT_3c_pred_rating', num_recommend=10)[['Name','metadata']])\n",
    "    else:\n",
    "        user_id = int(input(\"Enter your user id : \"))\n",
    "        # Test user_id 276875\n",
    "        num_recommend = int(input(\"Enter the number of books you want to recommend : \"))\n",
    "        display(Markdown('<h3><span style=\"color:DarkSlateGrey\">{}</span><span style=\"color:CadetBlue\">{}</span></h3>'.format(\"Here is our personal recommendation for you \",str(user_id))))\n",
    "        rec_books = pred_user_rating(user_id, num_recommend)\n",
    "        rec_books_md = pd.merge(rec_books, books , how='left', left_on='ISBN', right_on='ISBN')[['ISBN','Name','Genre']]\n",
    "        display(rec_books_md.head(num_recommend)[['Name','Genre']])\n",
    "    display(Markdown('<br>'))\n",
    "    display(Markdown('<h3><code style=\"background:SlateGray;color:white\">{}</code>&nbsp&nbsp<code style=\"background:SlateGray;color:white\">{}</code>&nbsp&nbsp<code style=\"background:SlateGray;color:white\">{}</code></h3>'.format(\" 1. Find Similiar \",\" 2. Personal Recommendation \",\" 3.End \")))\n",
    "    task = int(input(\"Enter the task: \"))\n",
    "\n",
    "    \n",
    "display(Markdown('<h3><em><span style=\"color:DarkCyan\">{}</span></em></h3>'.format(\"Thanks for your visiting.\")))"
   ]
  }
 ],
 "metadata": {
  "kernelspec": {
   "display_name": "Python 3",
   "language": "python",
   "name": "python3"
  },
  "language_info": {
   "codemirror_mode": {
    "name": "ipython",
    "version": 3
   },
   "file_extension": ".py",
   "mimetype": "text/x-python",
   "name": "python",
   "nbconvert_exporter": "python",
   "pygments_lexer": "ipython3",
   "version": "3.7.4"
  }
 },
 "nbformat": 4,
 "nbformat_minor": 2
}
